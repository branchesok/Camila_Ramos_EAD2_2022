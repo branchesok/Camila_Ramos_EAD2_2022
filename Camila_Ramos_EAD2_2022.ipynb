{
  "nbformat": 4,
  "nbformat_minor": 0,
  "metadata": {
    "colab": {
      "name": "Camila_Ramos_EAD2_2022.ipynb",
      "provenance": [],
      "toc_visible": true
    },
    "kernelspec": {
      "name": "python3",
      "display_name": "Python 3"
    },
    "language_info": {
      "name": "python"
    }
  },
  "cells": [
    {
      "cell_type": "markdown",
      "source": [
        "# Portada"
      ],
      "metadata": {
        "id": "5StVy5cnAxZb"
      }
    },
    {
      "cell_type": "markdown",
      "source": [
        "\n",
        "\n",
        "---\n",
        "\n",
        "## ***Ventas de Video Juegos - Analisis***\n",
        "\n",
        "*   *Camila Ramos*\n",
        "*   *EAD2 2022* \n",
        "---\n",
        "\n",
        "\n",
        "\n",
        "\n"
      ],
      "metadata": {
        "id": "dXwigKKSBDRK"
      }
    },
    {
      "cell_type": "markdown",
      "source": [
        "# Indice\n",
        "\n",
        "1.   Introducción\n",
        "2.   Planteo del problema\n",
        "3.   Objetivos\n",
        " - 3.1 General\n",
        " - 3.2 Especificos\n",
        "4.   Explicacion de la base de datos y definicion de variables \n",
        " - 4.1 Instalacion e importacion de librerias\n",
        " - 4.2 Carga de la base de datos\n",
        " - 4.3 Descripcion del Data Set\n",
        " - 4.4 Limpieza y pre - procesamiento de la base de datos\n",
        "5. Análisis exploratorio, descriptivo y visual de los datos\n",
        " - 5.1 Analisis general de Ventas \n",
        " - 5.2 Cómo evolucionaron las ventas de Videojuegos a lo largo del tiempo?\n",
        " - 5.3 Juegos publicados y ventas a nivel Plataforma\n",
        " - 5.4 Cúales son los Generos mas populares a nivel Mundial y Regional?\n",
        "6. Contrastación de hipótesis y demostración visual de resultados\n",
        "7. Conclusiones\n",
        "\n",
        "\n",
        "\n",
        "\n",
        "\n",
        "\n",
        "\n",
        "\n"
      ],
      "metadata": {
        "id": "NsHveyGEBmYD"
      }
    },
    {
      "cell_type": "markdown",
      "source": [
        "# 1.Introducción"
      ],
      "metadata": {
        "id": "3GdbSrzeK2BO"
      }
    },
    {
      "cell_type": "markdown",
      "source": [
        "Un Videojuego es un juego electrónico que se puede jugar en un dispositivo,como por ejemplo una consola (Xbox360,Nintendo Wii, etc) una computadora o un smartphone. \n",
        "\n",
        "Dependiendo de la plataforma, los videojuegos se pueden subcategorizar en juegos de computadora y juegos de consola. Sin embargo, en los últimos años y con la aparición de las redes sociales,los avances tecnologicos y los dispositivos smart como celulares y tablets se introdujeron nuevas categorías, como los juegos \"móviles\" y \"sociales\" y \"juegos de streaming\". \n",
        "\n",
        "Los videojuegos han recorrido un largo camino desde que surgieron los primeros en la década de 1970. En la actualidad existe una gran variedad de opciones de videojuegos, algunos ofrecen gráficos fotorrealistas y pueden simular la realidad hasta un punto sorprendente en muchos casos ademas de estar disponibles en infinidad de dispositivos por lo que su uso no esta limitado a una consola especifica.\n"
      ],
      "metadata": {
        "id": "CGmRd8g4bz8z"
      }
    },
    {
      "cell_type": "markdown",
      "source": [
        "# 2.Planteo del problema"
      ],
      "metadata": {
        "id": "XIX9AT1wLN79"
      }
    },
    {
      "cell_type": "markdown",
      "source": [
        "Se cuenta con una base de datos de VideoJuegos de consola publicados el periodo 1980 hasta 2020 con datos de ventas a nivel mundial y por region para analizar el comportamiento de las mismas. La base ademas cuenta con datos correspondientes a criticas de usuarios del Sitio VG Chartz y Rating de los criticos del Entertainment Software Rating Board.\n"
      ],
      "metadata": {
        "id": "JC_4LzVVcoTE"
      }
    },
    {
      "cell_type": "markdown",
      "source": [
        "# 3.Objetivos"
      ],
      "metadata": {
        "id": "Wje47WRaLTX4"
      }
    },
    {
      "cell_type": "markdown",
      "source": [
        "### 3.1 General\n",
        "Analizar el comportamiento que tienen las ventas de los videojuegos publicados en el periodo de estudio a nivel Mundial y Regional y obtener insights sobre la popularidad de las diferentes consolas y generos de videojuegos mas conocidas."
      ],
      "metadata": {
        "id": "SYzRDw1idiV9"
      }
    },
    {
      "cell_type": "markdown",
      "source": [
        "### 3.2 Específicos\n",
        "\n",
        "\n",
        "\n",
        "* Estudiar el comportamiento evolutivo de las ventas por año en el periodo 1980-2020 \n",
        "\n",
        "* Analizar el volumen de ventas para cada Plataforma y determinar que Plataformas publicaron mas juegos en el periodo de estudio \n",
        "\n",
        "* Determinar qué Géneros son mas populares a nivel mundial y si existe alguna relacion en cuanto a las Regiones\n",
        "\n",
        "* Comprobar mediante contrastacion de hipótesis si las ventas mundiales en 2010 superan a las del año 2000\n"
      ],
      "metadata": {
        "id": "7DNojPxSmkXA"
      }
    },
    {
      "cell_type": "markdown",
      "source": [
        "# 4.Explicacion de la base de datos y definicion de variables"
      ],
      "metadata": {
        "id": "yFQjVGbqL5Yc"
      }
    },
    {
      "cell_type": "markdown",
      "source": [
        "### 4.1 Instalacion e importacion de librerias"
      ],
      "metadata": {
        "id": "-izXFGjAMYco"
      }
    },
    {
      "cell_type": "code",
      "source": [
        "import pandas as pd\n",
        "import numpy as np\n",
        "import matplotlib.pyplot as plt"
      ],
      "metadata": {
        "id": "CN4WT_6bMhqD"
      },
      "execution_count": 61,
      "outputs": []
    },
    {
      "cell_type": "markdown",
      "source": [
        "### 4.2 Carga de la base de datos (Data Set)"
      ],
      "metadata": {
        "id": "6UUwzt4VMnet"
      }
    },
    {
      "cell_type": "markdown",
      "source": [
        "**[Link a la base de datos](https://github.com/branchesok/Camila_Ramos_EAD2_2022/blob/e8b766215bf8e2468553aa8c492f78e238c59d71/VIDEO_GAMES_SALES.csv)**"
      ],
      "metadata": {
        "id": "g_pn37P7ZGtf"
      }
    },
    {
      "cell_type": "code",
      "source": [
        "data = pd.read_csv(\"VIDEO_GAMES_SALES.csv\")"
      ],
      "metadata": {
        "id": "hngjnF_iMqwF"
      },
      "execution_count": 63,
      "outputs": []
    },
    {
      "cell_type": "code",
      "source": [
        "data.head()"
      ],
      "metadata": {
        "colab": {
          "base_uri": "https://localhost:8080/",
          "height": 340
        },
        "id": "vpQUY276NVpJ",
        "outputId": "9134c88d-e87f-44eb-fa10-5d96b5e314ae"
      },
      "execution_count": 64,
      "outputs": [
        {
          "output_type": "execute_result",
          "data": {
            "text/plain": [
              "                       Name Platform  Year_of_Release         Genre Publisher  \\\n",
              "0                Wii Sports      Wii           2006.0        Sports  Nintendo   \n",
              "1         Super Mario Bros.      NES           1985.0      Platform  Nintendo   \n",
              "2            Mario Kart Wii      Wii           2008.0        Racing  Nintendo   \n",
              "3         Wii Sports Resort      Wii           2009.0        Sports  Nintendo   \n",
              "4  Pokemon Red/Pokemon Blue       GB           1996.0  Role-Playing  Nintendo   \n",
              "\n",
              "   NA_Sales  EU_Sales  JP_Sales  Other_Sales  Global_Sales  Critic_Score  \\\n",
              "0     41.36     28.96      3.77         8.45         82.53          76.0   \n",
              "1     29.08      3.58      6.81         0.77         40.24           NaN   \n",
              "2     15.68     12.76      3.79         3.29         35.52          82.0   \n",
              "3     15.61     10.93      3.28         2.95         32.77          80.0   \n",
              "4     11.27      8.89     10.22         1.00         31.37           NaN   \n",
              "\n",
              "   Critic_Count  User_Score  User_Count Developer Rating  \n",
              "0          51.0         8.0       322.0  Nintendo      E  \n",
              "1           NaN         NaN         NaN       NaN    NaN  \n",
              "2          73.0         8.3       709.0  Nintendo      E  \n",
              "3          73.0         8.0       192.0  Nintendo      E  \n",
              "4           NaN         NaN         NaN       NaN    NaN  "
            ],
            "text/html": [
              "\n",
              "  <div id=\"df-0c57975b-6452-4cb7-a5b2-63b56cf7f82a\">\n",
              "    <div class=\"colab-df-container\">\n",
              "      <div>\n",
              "<style scoped>\n",
              "    .dataframe tbody tr th:only-of-type {\n",
              "        vertical-align: middle;\n",
              "    }\n",
              "\n",
              "    .dataframe tbody tr th {\n",
              "        vertical-align: top;\n",
              "    }\n",
              "\n",
              "    .dataframe thead th {\n",
              "        text-align: right;\n",
              "    }\n",
              "</style>\n",
              "<table border=\"1\" class=\"dataframe\">\n",
              "  <thead>\n",
              "    <tr style=\"text-align: right;\">\n",
              "      <th></th>\n",
              "      <th>Name</th>\n",
              "      <th>Platform</th>\n",
              "      <th>Year_of_Release</th>\n",
              "      <th>Genre</th>\n",
              "      <th>Publisher</th>\n",
              "      <th>NA_Sales</th>\n",
              "      <th>EU_Sales</th>\n",
              "      <th>JP_Sales</th>\n",
              "      <th>Other_Sales</th>\n",
              "      <th>Global_Sales</th>\n",
              "      <th>Critic_Score</th>\n",
              "      <th>Critic_Count</th>\n",
              "      <th>User_Score</th>\n",
              "      <th>User_Count</th>\n",
              "      <th>Developer</th>\n",
              "      <th>Rating</th>\n",
              "    </tr>\n",
              "  </thead>\n",
              "  <tbody>\n",
              "    <tr>\n",
              "      <th>0</th>\n",
              "      <td>Wii Sports</td>\n",
              "      <td>Wii</td>\n",
              "      <td>2006.0</td>\n",
              "      <td>Sports</td>\n",
              "      <td>Nintendo</td>\n",
              "      <td>41.36</td>\n",
              "      <td>28.96</td>\n",
              "      <td>3.77</td>\n",
              "      <td>8.45</td>\n",
              "      <td>82.53</td>\n",
              "      <td>76.0</td>\n",
              "      <td>51.0</td>\n",
              "      <td>8.0</td>\n",
              "      <td>322.0</td>\n",
              "      <td>Nintendo</td>\n",
              "      <td>E</td>\n",
              "    </tr>\n",
              "    <tr>\n",
              "      <th>1</th>\n",
              "      <td>Super Mario Bros.</td>\n",
              "      <td>NES</td>\n",
              "      <td>1985.0</td>\n",
              "      <td>Platform</td>\n",
              "      <td>Nintendo</td>\n",
              "      <td>29.08</td>\n",
              "      <td>3.58</td>\n",
              "      <td>6.81</td>\n",
              "      <td>0.77</td>\n",
              "      <td>40.24</td>\n",
              "      <td>NaN</td>\n",
              "      <td>NaN</td>\n",
              "      <td>NaN</td>\n",
              "      <td>NaN</td>\n",
              "      <td>NaN</td>\n",
              "      <td>NaN</td>\n",
              "    </tr>\n",
              "    <tr>\n",
              "      <th>2</th>\n",
              "      <td>Mario Kart Wii</td>\n",
              "      <td>Wii</td>\n",
              "      <td>2008.0</td>\n",
              "      <td>Racing</td>\n",
              "      <td>Nintendo</td>\n",
              "      <td>15.68</td>\n",
              "      <td>12.76</td>\n",
              "      <td>3.79</td>\n",
              "      <td>3.29</td>\n",
              "      <td>35.52</td>\n",
              "      <td>82.0</td>\n",
              "      <td>73.0</td>\n",
              "      <td>8.3</td>\n",
              "      <td>709.0</td>\n",
              "      <td>Nintendo</td>\n",
              "      <td>E</td>\n",
              "    </tr>\n",
              "    <tr>\n",
              "      <th>3</th>\n",
              "      <td>Wii Sports Resort</td>\n",
              "      <td>Wii</td>\n",
              "      <td>2009.0</td>\n",
              "      <td>Sports</td>\n",
              "      <td>Nintendo</td>\n",
              "      <td>15.61</td>\n",
              "      <td>10.93</td>\n",
              "      <td>3.28</td>\n",
              "      <td>2.95</td>\n",
              "      <td>32.77</td>\n",
              "      <td>80.0</td>\n",
              "      <td>73.0</td>\n",
              "      <td>8.0</td>\n",
              "      <td>192.0</td>\n",
              "      <td>Nintendo</td>\n",
              "      <td>E</td>\n",
              "    </tr>\n",
              "    <tr>\n",
              "      <th>4</th>\n",
              "      <td>Pokemon Red/Pokemon Blue</td>\n",
              "      <td>GB</td>\n",
              "      <td>1996.0</td>\n",
              "      <td>Role-Playing</td>\n",
              "      <td>Nintendo</td>\n",
              "      <td>11.27</td>\n",
              "      <td>8.89</td>\n",
              "      <td>10.22</td>\n",
              "      <td>1.00</td>\n",
              "      <td>31.37</td>\n",
              "      <td>NaN</td>\n",
              "      <td>NaN</td>\n",
              "      <td>NaN</td>\n",
              "      <td>NaN</td>\n",
              "      <td>NaN</td>\n",
              "      <td>NaN</td>\n",
              "    </tr>\n",
              "  </tbody>\n",
              "</table>\n",
              "</div>\n",
              "      <button class=\"colab-df-convert\" onclick=\"convertToInteractive('df-0c57975b-6452-4cb7-a5b2-63b56cf7f82a')\"\n",
              "              title=\"Convert this dataframe to an interactive table.\"\n",
              "              style=\"display:none;\">\n",
              "        \n",
              "  <svg xmlns=\"http://www.w3.org/2000/svg\" height=\"24px\"viewBox=\"0 0 24 24\"\n",
              "       width=\"24px\">\n",
              "    <path d=\"M0 0h24v24H0V0z\" fill=\"none\"/>\n",
              "    <path d=\"M18.56 5.44l.94 2.06.94-2.06 2.06-.94-2.06-.94-.94-2.06-.94 2.06-2.06.94zm-11 1L8.5 8.5l.94-2.06 2.06-.94-2.06-.94L8.5 2.5l-.94 2.06-2.06.94zm10 10l.94 2.06.94-2.06 2.06-.94-2.06-.94-.94-2.06-.94 2.06-2.06.94z\"/><path d=\"M17.41 7.96l-1.37-1.37c-.4-.4-.92-.59-1.43-.59-.52 0-1.04.2-1.43.59L10.3 9.45l-7.72 7.72c-.78.78-.78 2.05 0 2.83L4 21.41c.39.39.9.59 1.41.59.51 0 1.02-.2 1.41-.59l7.78-7.78 2.81-2.81c.8-.78.8-2.07 0-2.86zM5.41 20L4 18.59l7.72-7.72 1.47 1.35L5.41 20z\"/>\n",
              "  </svg>\n",
              "      </button>\n",
              "      \n",
              "  <style>\n",
              "    .colab-df-container {\n",
              "      display:flex;\n",
              "      flex-wrap:wrap;\n",
              "      gap: 12px;\n",
              "    }\n",
              "\n",
              "    .colab-df-convert {\n",
              "      background-color: #E8F0FE;\n",
              "      border: none;\n",
              "      border-radius: 50%;\n",
              "      cursor: pointer;\n",
              "      display: none;\n",
              "      fill: #1967D2;\n",
              "      height: 32px;\n",
              "      padding: 0 0 0 0;\n",
              "      width: 32px;\n",
              "    }\n",
              "\n",
              "    .colab-df-convert:hover {\n",
              "      background-color: #E2EBFA;\n",
              "      box-shadow: 0px 1px 2px rgba(60, 64, 67, 0.3), 0px 1px 3px 1px rgba(60, 64, 67, 0.15);\n",
              "      fill: #174EA6;\n",
              "    }\n",
              "\n",
              "    [theme=dark] .colab-df-convert {\n",
              "      background-color: #3B4455;\n",
              "      fill: #D2E3FC;\n",
              "    }\n",
              "\n",
              "    [theme=dark] .colab-df-convert:hover {\n",
              "      background-color: #434B5C;\n",
              "      box-shadow: 0px 1px 3px 1px rgba(0, 0, 0, 0.15);\n",
              "      filter: drop-shadow(0px 1px 2px rgba(0, 0, 0, 0.3));\n",
              "      fill: #FFFFFF;\n",
              "    }\n",
              "  </style>\n",
              "\n",
              "      <script>\n",
              "        const buttonEl =\n",
              "          document.querySelector('#df-0c57975b-6452-4cb7-a5b2-63b56cf7f82a button.colab-df-convert');\n",
              "        buttonEl.style.display =\n",
              "          google.colab.kernel.accessAllowed ? 'block' : 'none';\n",
              "\n",
              "        async function convertToInteractive(key) {\n",
              "          const element = document.querySelector('#df-0c57975b-6452-4cb7-a5b2-63b56cf7f82a');\n",
              "          const dataTable =\n",
              "            await google.colab.kernel.invokeFunction('convertToInteractive',\n",
              "                                                     [key], {});\n",
              "          if (!dataTable) return;\n",
              "\n",
              "          const docLinkHtml = 'Like what you see? Visit the ' +\n",
              "            '<a target=\"_blank\" href=https://colab.research.google.com/notebooks/data_table.ipynb>data table notebook</a>'\n",
              "            + ' to learn more about interactive tables.';\n",
              "          element.innerHTML = '';\n",
              "          dataTable['output_type'] = 'display_data';\n",
              "          await google.colab.output.renderOutput(dataTable, element);\n",
              "          const docLink = document.createElement('div');\n",
              "          docLink.innerHTML = docLinkHtml;\n",
              "          element.appendChild(docLink);\n",
              "        }\n",
              "      </script>\n",
              "    </div>\n",
              "  </div>\n",
              "  "
            ]
          },
          "metadata": {},
          "execution_count": 64
        }
      ]
    },
    {
      "cell_type": "markdown",
      "source": [
        "### 4.3 Descripcion del Data Set"
      ],
      "metadata": {
        "id": "BjwkiX4aNfjx"
      }
    },
    {
      "cell_type": "code",
      "source": [
        "data.shape"
      ],
      "metadata": {
        "colab": {
          "base_uri": "https://localhost:8080/"
        },
        "id": "0H_VEsAiNu_C",
        "outputId": "0f023357-605c-40f2-d6d7-ef273bcd1857"
      },
      "execution_count": 65,
      "outputs": [
        {
          "output_type": "execute_result",
          "data": {
            "text/plain": [
              "(16719, 16)"
            ]
          },
          "metadata": {},
          "execution_count": 65
        }
      ]
    },
    {
      "cell_type": "markdown",
      "source": [
        "El Data Set contiene **16719 filas y 16 columnas**"
      ],
      "metadata": {
        "id": "2QuRJEWBOZtZ"
      }
    },
    {
      "cell_type": "code",
      "source": [
        "data.info()"
      ],
      "metadata": {
        "colab": {
          "base_uri": "https://localhost:8080/"
        },
        "id": "ZrlAnPiDO1UE",
        "outputId": "14737443-3760-41fd-a365-f61dc7412587"
      },
      "execution_count": 66,
      "outputs": [
        {
          "output_type": "stream",
          "name": "stdout",
          "text": [
            "<class 'pandas.core.frame.DataFrame'>\n",
            "RangeIndex: 16719 entries, 0 to 16718\n",
            "Data columns (total 16 columns):\n",
            " #   Column           Non-Null Count  Dtype  \n",
            "---  ------           --------------  -----  \n",
            " 0   Name             16717 non-null  object \n",
            " 1   Platform         16719 non-null  object \n",
            " 2   Year_of_Release  16450 non-null  float64\n",
            " 3   Genre            16717 non-null  object \n",
            " 4   Publisher        16665 non-null  object \n",
            " 5   NA_Sales         16719 non-null  float64\n",
            " 6   EU_Sales         16719 non-null  float64\n",
            " 7   JP_Sales         16719 non-null  float64\n",
            " 8   Other_Sales      16719 non-null  float64\n",
            " 9   Global_Sales     16719 non-null  float64\n",
            " 10  Critic_Score     8137 non-null   float64\n",
            " 11  Critic_Count     8137 non-null   float64\n",
            " 12  User_Score       7590 non-null   float64\n",
            " 13  User_Count       7590 non-null   float64\n",
            " 14  Developer        10096 non-null  object \n",
            " 15  Rating           9950 non-null   object \n",
            "dtypes: float64(10), object(6)\n",
            "memory usage: 2.0+ MB\n"
          ]
        }
      ]
    },
    {
      "cell_type": "code",
      "source": [
        "# Cantidad de valores nulos para cada columna\n",
        "\n",
        "data.isnull().sum()"
      ],
      "metadata": {
        "colab": {
          "base_uri": "https://localhost:8080/"
        },
        "id": "lsz_p1pJ42XJ",
        "outputId": "d03501ad-68a1-4dd2-84ee-826f0246105a"
      },
      "execution_count": 67,
      "outputs": [
        {
          "output_type": "execute_result",
          "data": {
            "text/plain": [
              "Name                  2\n",
              "Platform              0\n",
              "Year_of_Release     269\n",
              "Genre                 2\n",
              "Publisher            54\n",
              "NA_Sales              0\n",
              "EU_Sales              0\n",
              "JP_Sales              0\n",
              "Other_Sales           0\n",
              "Global_Sales          0\n",
              "Critic_Score       8582\n",
              "Critic_Count       8582\n",
              "User_Score         9129\n",
              "User_Count         9129\n",
              "Developer          6623\n",
              "Rating             6769\n",
              "dtype: int64"
            ]
          },
          "metadata": {},
          "execution_count": 67
        }
      ]
    },
    {
      "cell_type": "code",
      "source": [
        "data.columns"
      ],
      "metadata": {
        "colab": {
          "base_uri": "https://localhost:8080/"
        },
        "id": "PWY9SFJg-2_e",
        "outputId": "7916b928-815f-4474-8280-6f0a3b0b4a16"
      },
      "execution_count": 68,
      "outputs": [
        {
          "output_type": "execute_result",
          "data": {
            "text/plain": [
              "Index(['Name', 'Platform', 'Year_of_Release', 'Genre', 'Publisher', 'NA_Sales',\n",
              "       'EU_Sales', 'JP_Sales', 'Other_Sales', 'Global_Sales', 'Critic_Score',\n",
              "       'Critic_Count', 'User_Score', 'User_Count', 'Developer', 'Rating'],\n",
              "      dtype='object')"
            ]
          },
          "metadata": {},
          "execution_count": 68
        }
      ]
    },
    {
      "cell_type": "markdown",
      "source": [
        "**Definicion para cada una de las columnas del Data Set:**\n",
        "\n",
        "* **Name** : Nombre/Titulo del VideoJuego\n",
        "* **Platform** : Plataforma en la que se lanzó el mismo (Por ejemplo (PC, PS4 ,etc)\n",
        "* **Year_of_Release** : Año en el que fue lanzado el VideoJuego\n",
        "* **Genre** : Genero del Videojuego (Clasificacion dada por el sitio VG Chartz)\n",
        "* **Publisher** : Compañia a la que pertenece (Ej: Nintendo)\n",
        "* **NA_Sales**  : Unidades vendidas en Norte America (Millones)\n",
        "* **EU_Sales** : Unidades vendidas en Europa (Millones)\n",
        "* **JP_Sales** : Unidades vendidas en Japon (Millones)\n",
        "* **Other_Sales** : Unidades vendidas en el resto del mundo(Millones)\n",
        "* **Global_Sales** : Unidades vendidas a nivel Global (Millones)\n",
        "* **Critic_Score** : Puntaje dado al videojuego por los criticos (0 - 100)\n",
        "* **Critic_Count** : Cantidad de puntajes recibidos por criticos\n",
        "* **User_Score** :  Puntaje dado al videojuego por los usuarios de VG Chartz (0 - 100)\n",
        "* **User_Count** : - Cantidad de puntajes de usuarios recibidos\n",
        "* **Developer** : Nombre de la Compañia que desarrollo el Video Juego\n",
        "* **Rating** : Clasificacion Oficial de ESRB (Entertainment Software Rating Board)\n",
        "\n",
        "\n"
      ],
      "metadata": {
        "id": "cocI-PJf56-T"
      }
    },
    {
      "cell_type": "code",
      "source": [
        "#comprobar si existen filas duplicadas en el Data Set\n",
        "\n",
        "data.duplicated().sum()"
      ],
      "metadata": {
        "colab": {
          "base_uri": "https://localhost:8080/"
        },
        "id": "9odmqI2L_bhx",
        "outputId": "22a2eb97-6896-4da8-dce0-4e0e7f99cf6a"
      },
      "execution_count": 69,
      "outputs": [
        {
          "output_type": "execute_result",
          "data": {
            "text/plain": [
              "0"
            ]
          },
          "metadata": {},
          "execution_count": 69
        }
      ]
    },
    {
      "cell_type": "code",
      "source": [
        "#revisar periodo de tiempo en años que abarca el Data Set\n",
        "\n",
        "max_date =data.Year_of_Release.max()\n",
        "min_date =data.Year_of_Release.min()\n",
        "\n",
        "print(min_date,\"-\",max_date)"
      ],
      "metadata": {
        "colab": {
          "base_uri": "https://localhost:8080/"
        },
        "id": "ng4hvuNNLBxu",
        "outputId": "cccaf967-5d10-49c6-e5f9-61a1f6dc3a15"
      },
      "execution_count": 70,
      "outputs": [
        {
          "output_type": "stream",
          "name": "stdout",
          "text": [
            "1980.0 - 2020.0\n"
          ]
        }
      ]
    },
    {
      "cell_type": "code",
      "source": [
        "data.Name.count()"
      ],
      "metadata": {
        "colab": {
          "base_uri": "https://localhost:8080/"
        },
        "id": "ZRoe9X7DBg73",
        "outputId": "ef095421-b86b-44f6-c5fb-c9dd3826e8b7"
      },
      "execution_count": 71,
      "outputs": [
        {
          "output_type": "execute_result",
          "data": {
            "text/plain": [
              "16717"
            ]
          },
          "metadata": {},
          "execution_count": 71
        }
      ]
    },
    {
      "cell_type": "code",
      "source": [
        "# comprobamos si existen nombres de Videojuegos que se repiten\n",
        "\n",
        "nombres_repetidos = data['Name'].value_counts() \n",
        "print(nombres_repetidos) "
      ],
      "metadata": {
        "colab": {
          "base_uri": "https://localhost:8080/"
        },
        "id": "bLMOO9IPCWtD",
        "outputId": "c69ebf04-dd60-43d5-ab63-165371e4e071"
      },
      "execution_count": 72,
      "outputs": [
        {
          "output_type": "stream",
          "name": "stdout",
          "text": [
            "Need for Speed: Most Wanted                         12\n",
            "FIFA 14                                              9\n",
            "Ratatouille                                          9\n",
            "LEGO Marvel Super Heroes                             9\n",
            "Madden NFL 07                                        9\n",
            "                                                    ..\n",
            "Jewels of the Tropical Lost Island                   1\n",
            "Sherlock Holmes and the Mystery of Osborne House     1\n",
            "The King of Fighters '95 (CD)                        1\n",
            "Megamind: Mega Team Unite                            1\n",
            "Haitaka no Psychedelica                              1\n",
            "Name: Name, Length: 11562, dtype: int64\n"
          ]
        }
      ]
    },
    {
      "cell_type": "code",
      "source": [
        "# identificar que variables pueden ser diferentes para un mismo titulo o nombre de juego\n",
        "\n",
        "data.loc[data.Name == 'Ratatouille']\n"
      ],
      "metadata": {
        "colab": {
          "base_uri": "https://localhost:8080/",
          "height": 517
        },
        "id": "4R_-DylID_No",
        "outputId": "c87b378a-3dd1-44cf-b736-d8aa56242c8a"
      },
      "execution_count": 73,
      "outputs": [
        {
          "output_type": "execute_result",
          "data": {
            "text/plain": [
              "              Name Platform  Year_of_Release   Genre Publisher  NA_Sales  \\\n",
              "1598   Ratatouille       DS           2007.0  Action       THQ      0.49   \n",
              "2442   Ratatouille      PS2           2007.0  Action       THQ      0.31   \n",
              "3069   Ratatouille      PSP           2007.0  Action       THQ      0.22   \n",
              "3902   Ratatouille      PS3           2007.0  Action       THQ      0.09   \n",
              "3948   Ratatouille      Wii           2007.0  Action       THQ      0.43   \n",
              "6399   Ratatouille     X360           2007.0  Action       THQ      0.23   \n",
              "7682   Ratatouille      GBA           2007.0  Action       THQ      0.14   \n",
              "9016   Ratatouille       GC           2007.0  Action       THQ      0.11   \n",
              "14516  Ratatouille       PC           2007.0  Action       THQ      0.01   \n",
              "\n",
              "       EU_Sales  JP_Sales  Other_Sales  Global_Sales  Critic_Score  \\\n",
              "1598       0.62       0.0         0.14          1.25           NaN   \n",
              "2442       0.00       0.0         0.53          0.85          65.0   \n",
              "3069       0.27       0.0         0.16          0.66          64.0   \n",
              "3902       0.32       0.0         0.10          0.51          55.0   \n",
              "3948       0.03       0.0         0.04          0.50          62.0   \n",
              "6399       0.02       0.0         0.02          0.27          56.0   \n",
              "7682       0.05       0.0         0.00          0.20          65.0   \n",
              "9016       0.03       0.0         0.00          0.14          60.0   \n",
              "14516      0.01       0.0         0.00          0.03           NaN   \n",
              "\n",
              "       Critic_Count  User_Score  User_Count           Developer Rating  \n",
              "1598            NaN         NaN         NaN                 NaN    NaN  \n",
              "2442            9.0         8.0        11.0        Asobo Studio      E  \n",
              "3069            7.0         7.1         7.0    Locomotive Games      E  \n",
              "3902            8.0         4.8         4.0  Heavy Iron Studios      E  \n",
              "3948           16.0         6.7        12.0        Asobo Studio      E  \n",
              "6399           14.0         NaN         NaN  Heavy Iron Studios      E  \n",
              "7682            4.0         NaN         NaN              Helixe      E  \n",
              "9016            7.0         5.6         7.0        Asobo Studio      E  \n",
              "14516           NaN         7.9         9.0        Asobo Studio      E  "
            ],
            "text/html": [
              "\n",
              "  <div id=\"df-13e4b01e-3769-45df-9c58-7f9908fe8508\">\n",
              "    <div class=\"colab-df-container\">\n",
              "      <div>\n",
              "<style scoped>\n",
              "    .dataframe tbody tr th:only-of-type {\n",
              "        vertical-align: middle;\n",
              "    }\n",
              "\n",
              "    .dataframe tbody tr th {\n",
              "        vertical-align: top;\n",
              "    }\n",
              "\n",
              "    .dataframe thead th {\n",
              "        text-align: right;\n",
              "    }\n",
              "</style>\n",
              "<table border=\"1\" class=\"dataframe\">\n",
              "  <thead>\n",
              "    <tr style=\"text-align: right;\">\n",
              "      <th></th>\n",
              "      <th>Name</th>\n",
              "      <th>Platform</th>\n",
              "      <th>Year_of_Release</th>\n",
              "      <th>Genre</th>\n",
              "      <th>Publisher</th>\n",
              "      <th>NA_Sales</th>\n",
              "      <th>EU_Sales</th>\n",
              "      <th>JP_Sales</th>\n",
              "      <th>Other_Sales</th>\n",
              "      <th>Global_Sales</th>\n",
              "      <th>Critic_Score</th>\n",
              "      <th>Critic_Count</th>\n",
              "      <th>User_Score</th>\n",
              "      <th>User_Count</th>\n",
              "      <th>Developer</th>\n",
              "      <th>Rating</th>\n",
              "    </tr>\n",
              "  </thead>\n",
              "  <tbody>\n",
              "    <tr>\n",
              "      <th>1598</th>\n",
              "      <td>Ratatouille</td>\n",
              "      <td>DS</td>\n",
              "      <td>2007.0</td>\n",
              "      <td>Action</td>\n",
              "      <td>THQ</td>\n",
              "      <td>0.49</td>\n",
              "      <td>0.62</td>\n",
              "      <td>0.0</td>\n",
              "      <td>0.14</td>\n",
              "      <td>1.25</td>\n",
              "      <td>NaN</td>\n",
              "      <td>NaN</td>\n",
              "      <td>NaN</td>\n",
              "      <td>NaN</td>\n",
              "      <td>NaN</td>\n",
              "      <td>NaN</td>\n",
              "    </tr>\n",
              "    <tr>\n",
              "      <th>2442</th>\n",
              "      <td>Ratatouille</td>\n",
              "      <td>PS2</td>\n",
              "      <td>2007.0</td>\n",
              "      <td>Action</td>\n",
              "      <td>THQ</td>\n",
              "      <td>0.31</td>\n",
              "      <td>0.00</td>\n",
              "      <td>0.0</td>\n",
              "      <td>0.53</td>\n",
              "      <td>0.85</td>\n",
              "      <td>65.0</td>\n",
              "      <td>9.0</td>\n",
              "      <td>8.0</td>\n",
              "      <td>11.0</td>\n",
              "      <td>Asobo Studio</td>\n",
              "      <td>E</td>\n",
              "    </tr>\n",
              "    <tr>\n",
              "      <th>3069</th>\n",
              "      <td>Ratatouille</td>\n",
              "      <td>PSP</td>\n",
              "      <td>2007.0</td>\n",
              "      <td>Action</td>\n",
              "      <td>THQ</td>\n",
              "      <td>0.22</td>\n",
              "      <td>0.27</td>\n",
              "      <td>0.0</td>\n",
              "      <td>0.16</td>\n",
              "      <td>0.66</td>\n",
              "      <td>64.0</td>\n",
              "      <td>7.0</td>\n",
              "      <td>7.1</td>\n",
              "      <td>7.0</td>\n",
              "      <td>Locomotive Games</td>\n",
              "      <td>E</td>\n",
              "    </tr>\n",
              "    <tr>\n",
              "      <th>3902</th>\n",
              "      <td>Ratatouille</td>\n",
              "      <td>PS3</td>\n",
              "      <td>2007.0</td>\n",
              "      <td>Action</td>\n",
              "      <td>THQ</td>\n",
              "      <td>0.09</td>\n",
              "      <td>0.32</td>\n",
              "      <td>0.0</td>\n",
              "      <td>0.10</td>\n",
              "      <td>0.51</td>\n",
              "      <td>55.0</td>\n",
              "      <td>8.0</td>\n",
              "      <td>4.8</td>\n",
              "      <td>4.0</td>\n",
              "      <td>Heavy Iron Studios</td>\n",
              "      <td>E</td>\n",
              "    </tr>\n",
              "    <tr>\n",
              "      <th>3948</th>\n",
              "      <td>Ratatouille</td>\n",
              "      <td>Wii</td>\n",
              "      <td>2007.0</td>\n",
              "      <td>Action</td>\n",
              "      <td>THQ</td>\n",
              "      <td>0.43</td>\n",
              "      <td>0.03</td>\n",
              "      <td>0.0</td>\n",
              "      <td>0.04</td>\n",
              "      <td>0.50</td>\n",
              "      <td>62.0</td>\n",
              "      <td>16.0</td>\n",
              "      <td>6.7</td>\n",
              "      <td>12.0</td>\n",
              "      <td>Asobo Studio</td>\n",
              "      <td>E</td>\n",
              "    </tr>\n",
              "    <tr>\n",
              "      <th>6399</th>\n",
              "      <td>Ratatouille</td>\n",
              "      <td>X360</td>\n",
              "      <td>2007.0</td>\n",
              "      <td>Action</td>\n",
              "      <td>THQ</td>\n",
              "      <td>0.23</td>\n",
              "      <td>0.02</td>\n",
              "      <td>0.0</td>\n",
              "      <td>0.02</td>\n",
              "      <td>0.27</td>\n",
              "      <td>56.0</td>\n",
              "      <td>14.0</td>\n",
              "      <td>NaN</td>\n",
              "      <td>NaN</td>\n",
              "      <td>Heavy Iron Studios</td>\n",
              "      <td>E</td>\n",
              "    </tr>\n",
              "    <tr>\n",
              "      <th>7682</th>\n",
              "      <td>Ratatouille</td>\n",
              "      <td>GBA</td>\n",
              "      <td>2007.0</td>\n",
              "      <td>Action</td>\n",
              "      <td>THQ</td>\n",
              "      <td>0.14</td>\n",
              "      <td>0.05</td>\n",
              "      <td>0.0</td>\n",
              "      <td>0.00</td>\n",
              "      <td>0.20</td>\n",
              "      <td>65.0</td>\n",
              "      <td>4.0</td>\n",
              "      <td>NaN</td>\n",
              "      <td>NaN</td>\n",
              "      <td>Helixe</td>\n",
              "      <td>E</td>\n",
              "    </tr>\n",
              "    <tr>\n",
              "      <th>9016</th>\n",
              "      <td>Ratatouille</td>\n",
              "      <td>GC</td>\n",
              "      <td>2007.0</td>\n",
              "      <td>Action</td>\n",
              "      <td>THQ</td>\n",
              "      <td>0.11</td>\n",
              "      <td>0.03</td>\n",
              "      <td>0.0</td>\n",
              "      <td>0.00</td>\n",
              "      <td>0.14</td>\n",
              "      <td>60.0</td>\n",
              "      <td>7.0</td>\n",
              "      <td>5.6</td>\n",
              "      <td>7.0</td>\n",
              "      <td>Asobo Studio</td>\n",
              "      <td>E</td>\n",
              "    </tr>\n",
              "    <tr>\n",
              "      <th>14516</th>\n",
              "      <td>Ratatouille</td>\n",
              "      <td>PC</td>\n",
              "      <td>2007.0</td>\n",
              "      <td>Action</td>\n",
              "      <td>THQ</td>\n",
              "      <td>0.01</td>\n",
              "      <td>0.01</td>\n",
              "      <td>0.0</td>\n",
              "      <td>0.00</td>\n",
              "      <td>0.03</td>\n",
              "      <td>NaN</td>\n",
              "      <td>NaN</td>\n",
              "      <td>7.9</td>\n",
              "      <td>9.0</td>\n",
              "      <td>Asobo Studio</td>\n",
              "      <td>E</td>\n",
              "    </tr>\n",
              "  </tbody>\n",
              "</table>\n",
              "</div>\n",
              "      <button class=\"colab-df-convert\" onclick=\"convertToInteractive('df-13e4b01e-3769-45df-9c58-7f9908fe8508')\"\n",
              "              title=\"Convert this dataframe to an interactive table.\"\n",
              "              style=\"display:none;\">\n",
              "        \n",
              "  <svg xmlns=\"http://www.w3.org/2000/svg\" height=\"24px\"viewBox=\"0 0 24 24\"\n",
              "       width=\"24px\">\n",
              "    <path d=\"M0 0h24v24H0V0z\" fill=\"none\"/>\n",
              "    <path d=\"M18.56 5.44l.94 2.06.94-2.06 2.06-.94-2.06-.94-.94-2.06-.94 2.06-2.06.94zm-11 1L8.5 8.5l.94-2.06 2.06-.94-2.06-.94L8.5 2.5l-.94 2.06-2.06.94zm10 10l.94 2.06.94-2.06 2.06-.94-2.06-.94-.94-2.06-.94 2.06-2.06.94z\"/><path d=\"M17.41 7.96l-1.37-1.37c-.4-.4-.92-.59-1.43-.59-.52 0-1.04.2-1.43.59L10.3 9.45l-7.72 7.72c-.78.78-.78 2.05 0 2.83L4 21.41c.39.39.9.59 1.41.59.51 0 1.02-.2 1.41-.59l7.78-7.78 2.81-2.81c.8-.78.8-2.07 0-2.86zM5.41 20L4 18.59l7.72-7.72 1.47 1.35L5.41 20z\"/>\n",
              "  </svg>\n",
              "      </button>\n",
              "      \n",
              "  <style>\n",
              "    .colab-df-container {\n",
              "      display:flex;\n",
              "      flex-wrap:wrap;\n",
              "      gap: 12px;\n",
              "    }\n",
              "\n",
              "    .colab-df-convert {\n",
              "      background-color: #E8F0FE;\n",
              "      border: none;\n",
              "      border-radius: 50%;\n",
              "      cursor: pointer;\n",
              "      display: none;\n",
              "      fill: #1967D2;\n",
              "      height: 32px;\n",
              "      padding: 0 0 0 0;\n",
              "      width: 32px;\n",
              "    }\n",
              "\n",
              "    .colab-df-convert:hover {\n",
              "      background-color: #E2EBFA;\n",
              "      box-shadow: 0px 1px 2px rgba(60, 64, 67, 0.3), 0px 1px 3px 1px rgba(60, 64, 67, 0.15);\n",
              "      fill: #174EA6;\n",
              "    }\n",
              "\n",
              "    [theme=dark] .colab-df-convert {\n",
              "      background-color: #3B4455;\n",
              "      fill: #D2E3FC;\n",
              "    }\n",
              "\n",
              "    [theme=dark] .colab-df-convert:hover {\n",
              "      background-color: #434B5C;\n",
              "      box-shadow: 0px 1px 3px 1px rgba(0, 0, 0, 0.15);\n",
              "      filter: drop-shadow(0px 1px 2px rgba(0, 0, 0, 0.3));\n",
              "      fill: #FFFFFF;\n",
              "    }\n",
              "  </style>\n",
              "\n",
              "      <script>\n",
              "        const buttonEl =\n",
              "          document.querySelector('#df-13e4b01e-3769-45df-9c58-7f9908fe8508 button.colab-df-convert');\n",
              "        buttonEl.style.display =\n",
              "          google.colab.kernel.accessAllowed ? 'block' : 'none';\n",
              "\n",
              "        async function convertToInteractive(key) {\n",
              "          const element = document.querySelector('#df-13e4b01e-3769-45df-9c58-7f9908fe8508');\n",
              "          const dataTable =\n",
              "            await google.colab.kernel.invokeFunction('convertToInteractive',\n",
              "                                                     [key], {});\n",
              "          if (!dataTable) return;\n",
              "\n",
              "          const docLinkHtml = 'Like what you see? Visit the ' +\n",
              "            '<a target=\"_blank\" href=https://colab.research.google.com/notebooks/data_table.ipynb>data table notebook</a>'\n",
              "            + ' to learn more about interactive tables.';\n",
              "          element.innerHTML = '';\n",
              "          dataTable['output_type'] = 'display_data';\n",
              "          await google.colab.output.renderOutput(dataTable, element);\n",
              "          const docLink = document.createElement('div');\n",
              "          docLink.innerHTML = docLinkHtml;\n",
              "          element.appendChild(docLink);\n",
              "        }\n",
              "      </script>\n",
              "    </div>\n",
              "  </div>\n",
              "  "
            ]
          },
          "metadata": {},
          "execution_count": 73
        }
      ]
    },
    {
      "cell_type": "markdown",
      "source": [
        "**Observaciones**\n",
        "- La Base de Datos contiene 6 variables categoricas y 10 numericas\n",
        "- No existen filas duplicadas\n",
        "- Existen celdas con datos vacios o nulos como Name, Year_Of Release y Publisher\n",
        "- Aproximadamente el 50% de los Videojuegos no tienen datos de Critics_Score,Users_Score, Developer y Rating\n",
        "- La columna Year Of release se encuentra en formato float y debera convertirse a int\n",
        "- Se asume que el dato en las columnas de Ventas (_Sales) se refiere a cantidad de unidades del videojuego vendidas expresadas en Millones. Como referencia se toma el valor para el Videojuego Wii Sports de la siguente [fuente](https://es.wikipedia.org/wiki/Anexo:Videojuegos_m%C3%A1s_vendidos_de_la_Wii) \n",
        "- El Nombre de un VideoJuego puede repetirse ya que un mismo Juego puede lanzarse para diferentes plataformas o por diferentes desarrolladores e incluso tener distintas fechas de lanzamiento\n"
      ],
      "metadata": {
        "id": "M-kogIdhO5Nk"
      }
    },
    {
      "cell_type": "markdown",
      "source": [
        "### 4.4 Limpieza y pre - procesamiento de la base de datos"
      ],
      "metadata": {
        "id": "HdZriH6NVnk0"
      }
    },
    {
      "cell_type": "code",
      "source": [
        "#para obtener los nombres de las columnas en formato snake_case se debe convertir las mayusculas a minsculas \n",
        "\n",
        "snake_case_dict = {}\n",
        "\n",
        "labels_to_snake_case = lambda label: label.lower()\n",
        "\n",
        "for label in data.columns:\n",
        "    snake_case_dict[label] = labels_to_snake_case(label)\n",
        "\n",
        "games_sales_data = data.rename(columns= snake_case_dict)\n",
        "\n",
        "games_sales_data.columns"
      ],
      "metadata": {
        "colab": {
          "base_uri": "https://localhost:8080/"
        },
        "id": "EWeIude6eGMX",
        "outputId": "43a8fa77-cae0-4796-a493-0e476d687b7b"
      },
      "execution_count": 74,
      "outputs": [
        {
          "output_type": "execute_result",
          "data": {
            "text/plain": [
              "Index(['name', 'platform', 'year_of_release', 'genre', 'publisher', 'na_sales',\n",
              "       'eu_sales', 'jp_sales', 'other_sales', 'global_sales', 'critic_score',\n",
              "       'critic_count', 'user_score', 'user_count', 'developer', 'rating'],\n",
              "      dtype='object')"
            ]
          },
          "metadata": {},
          "execution_count": 74
        }
      ]
    },
    {
      "cell_type": "markdown",
      "source": [
        "Se elige eliminar aquellos registros con Nombre, Año y Compañia nulos ya que estas fueron seleccionadas como las prinicpales variables cateogricas para el analisis de ventas."
      ],
      "metadata": {
        "id": "B57_OnP5F-He"
      }
    },
    {
      "cell_type": "code",
      "source": [
        "games_sales_data = games_sales_data.dropna(subset=['name', 'year_of_release', 'genre', 'publisher'])\n",
        "\n",
        "#compruebo cantidad de registros nulos\n",
        "\n",
        "games_sales_data.isnull().sum()"
      ],
      "metadata": {
        "colab": {
          "base_uri": "https://localhost:8080/"
        },
        "id": "mkoJIjIf1Q6n",
        "outputId": "99f0bd0c-580f-4220-c635-043cca640003"
      },
      "execution_count": 75,
      "outputs": [
        {
          "output_type": "execute_result",
          "data": {
            "text/plain": [
              "name                  0\n",
              "platform              0\n",
              "year_of_release       0\n",
              "genre                 0\n",
              "publisher             0\n",
              "na_sales              0\n",
              "eu_sales              0\n",
              "jp_sales              0\n",
              "other_sales           0\n",
              "global_sales          0\n",
              "critic_score       8434\n",
              "critic_count       8434\n",
              "user_score         8955\n",
              "user_count         8955\n",
              "developer          6512\n",
              "rating             6649\n",
              "dtype: int64"
            ]
          },
          "metadata": {},
          "execution_count": 75
        }
      ]
    },
    {
      "cell_type": "code",
      "source": [
        "#convertir la columna Año a formato int\n",
        "\n",
        "games_sales_data.year_of_release =games_sales_data.year_of_release.astype('int')\n",
        "\n",
        "type(games_sales_data.year_of_release[0])"
      ],
      "metadata": {
        "colab": {
          "base_uri": "https://localhost:8080/"
        },
        "id": "fPZY8uSUMpQy",
        "outputId": "f8f124b2-3c27-4fdb-b23c-54064337b351"
      },
      "execution_count": 76,
      "outputs": [
        {
          "output_type": "execute_result",
          "data": {
            "text/plain": [
              "numpy.int64"
            ]
          },
          "metadata": {},
          "execution_count": 76
        }
      ]
    },
    {
      "cell_type": "markdown",
      "source": [
        "Existen algunas columnas con mas del 50% de valores nulos con respecto al total de filas del Data Set entre ellos, Puntajes y Rating. Esto se debe a que el Sitio VG Chartz se lanzo en 2006 ([fuente](https://www.vgchartz.com/)) y el ESRB en 1994 ([fuente](https://www.esrb.org/history/)) y la base de datos contiene juegos lanzados en el periodo 1980-2020. A efectos del analisis de ventas se van a seleccionar solo las columnas del Data Set que tengan dicha informacion."
      ],
      "metadata": {
        "id": "TxjpTly5J13n"
      }
    },
    {
      "cell_type": "code",
      "source": [
        "games_sales_data = games_sales_data.loc[:,'name':'global_sales'] \n",
        "games_sales_data.head()"
      ],
      "metadata": {
        "colab": {
          "base_uri": "https://localhost:8080/",
          "height": 285
        },
        "id": "yeVDOsi7Kh0g",
        "outputId": "e7f5be40-eb10-4f3b-a4c9-8f9b5e00e3c7"
      },
      "execution_count": 77,
      "outputs": [
        {
          "output_type": "execute_result",
          "data": {
            "text/plain": [
              "                       name platform  year_of_release         genre publisher  \\\n",
              "0                Wii Sports      Wii             2006        Sports  Nintendo   \n",
              "1         Super Mario Bros.      NES             1985      Platform  Nintendo   \n",
              "2            Mario Kart Wii      Wii             2008        Racing  Nintendo   \n",
              "3         Wii Sports Resort      Wii             2009        Sports  Nintendo   \n",
              "4  Pokemon Red/Pokemon Blue       GB             1996  Role-Playing  Nintendo   \n",
              "\n",
              "   na_sales  eu_sales  jp_sales  other_sales  global_sales  \n",
              "0     41.36     28.96      3.77         8.45         82.53  \n",
              "1     29.08      3.58      6.81         0.77         40.24  \n",
              "2     15.68     12.76      3.79         3.29         35.52  \n",
              "3     15.61     10.93      3.28         2.95         32.77  \n",
              "4     11.27      8.89     10.22         1.00         31.37  "
            ],
            "text/html": [
              "\n",
              "  <div id=\"df-d33401b6-c9a8-4cfb-923d-9763a639d0a6\">\n",
              "    <div class=\"colab-df-container\">\n",
              "      <div>\n",
              "<style scoped>\n",
              "    .dataframe tbody tr th:only-of-type {\n",
              "        vertical-align: middle;\n",
              "    }\n",
              "\n",
              "    .dataframe tbody tr th {\n",
              "        vertical-align: top;\n",
              "    }\n",
              "\n",
              "    .dataframe thead th {\n",
              "        text-align: right;\n",
              "    }\n",
              "</style>\n",
              "<table border=\"1\" class=\"dataframe\">\n",
              "  <thead>\n",
              "    <tr style=\"text-align: right;\">\n",
              "      <th></th>\n",
              "      <th>name</th>\n",
              "      <th>platform</th>\n",
              "      <th>year_of_release</th>\n",
              "      <th>genre</th>\n",
              "      <th>publisher</th>\n",
              "      <th>na_sales</th>\n",
              "      <th>eu_sales</th>\n",
              "      <th>jp_sales</th>\n",
              "      <th>other_sales</th>\n",
              "      <th>global_sales</th>\n",
              "    </tr>\n",
              "  </thead>\n",
              "  <tbody>\n",
              "    <tr>\n",
              "      <th>0</th>\n",
              "      <td>Wii Sports</td>\n",
              "      <td>Wii</td>\n",
              "      <td>2006</td>\n",
              "      <td>Sports</td>\n",
              "      <td>Nintendo</td>\n",
              "      <td>41.36</td>\n",
              "      <td>28.96</td>\n",
              "      <td>3.77</td>\n",
              "      <td>8.45</td>\n",
              "      <td>82.53</td>\n",
              "    </tr>\n",
              "    <tr>\n",
              "      <th>1</th>\n",
              "      <td>Super Mario Bros.</td>\n",
              "      <td>NES</td>\n",
              "      <td>1985</td>\n",
              "      <td>Platform</td>\n",
              "      <td>Nintendo</td>\n",
              "      <td>29.08</td>\n",
              "      <td>3.58</td>\n",
              "      <td>6.81</td>\n",
              "      <td>0.77</td>\n",
              "      <td>40.24</td>\n",
              "    </tr>\n",
              "    <tr>\n",
              "      <th>2</th>\n",
              "      <td>Mario Kart Wii</td>\n",
              "      <td>Wii</td>\n",
              "      <td>2008</td>\n",
              "      <td>Racing</td>\n",
              "      <td>Nintendo</td>\n",
              "      <td>15.68</td>\n",
              "      <td>12.76</td>\n",
              "      <td>3.79</td>\n",
              "      <td>3.29</td>\n",
              "      <td>35.52</td>\n",
              "    </tr>\n",
              "    <tr>\n",
              "      <th>3</th>\n",
              "      <td>Wii Sports Resort</td>\n",
              "      <td>Wii</td>\n",
              "      <td>2009</td>\n",
              "      <td>Sports</td>\n",
              "      <td>Nintendo</td>\n",
              "      <td>15.61</td>\n",
              "      <td>10.93</td>\n",
              "      <td>3.28</td>\n",
              "      <td>2.95</td>\n",
              "      <td>32.77</td>\n",
              "    </tr>\n",
              "    <tr>\n",
              "      <th>4</th>\n",
              "      <td>Pokemon Red/Pokemon Blue</td>\n",
              "      <td>GB</td>\n",
              "      <td>1996</td>\n",
              "      <td>Role-Playing</td>\n",
              "      <td>Nintendo</td>\n",
              "      <td>11.27</td>\n",
              "      <td>8.89</td>\n",
              "      <td>10.22</td>\n",
              "      <td>1.00</td>\n",
              "      <td>31.37</td>\n",
              "    </tr>\n",
              "  </tbody>\n",
              "</table>\n",
              "</div>\n",
              "      <button class=\"colab-df-convert\" onclick=\"convertToInteractive('df-d33401b6-c9a8-4cfb-923d-9763a639d0a6')\"\n",
              "              title=\"Convert this dataframe to an interactive table.\"\n",
              "              style=\"display:none;\">\n",
              "        \n",
              "  <svg xmlns=\"http://www.w3.org/2000/svg\" height=\"24px\"viewBox=\"0 0 24 24\"\n",
              "       width=\"24px\">\n",
              "    <path d=\"M0 0h24v24H0V0z\" fill=\"none\"/>\n",
              "    <path d=\"M18.56 5.44l.94 2.06.94-2.06 2.06-.94-2.06-.94-.94-2.06-.94 2.06-2.06.94zm-11 1L8.5 8.5l.94-2.06 2.06-.94-2.06-.94L8.5 2.5l-.94 2.06-2.06.94zm10 10l.94 2.06.94-2.06 2.06-.94-2.06-.94-.94-2.06-.94 2.06-2.06.94z\"/><path d=\"M17.41 7.96l-1.37-1.37c-.4-.4-.92-.59-1.43-.59-.52 0-1.04.2-1.43.59L10.3 9.45l-7.72 7.72c-.78.78-.78 2.05 0 2.83L4 21.41c.39.39.9.59 1.41.59.51 0 1.02-.2 1.41-.59l7.78-7.78 2.81-2.81c.8-.78.8-2.07 0-2.86zM5.41 20L4 18.59l7.72-7.72 1.47 1.35L5.41 20z\"/>\n",
              "  </svg>\n",
              "      </button>\n",
              "      \n",
              "  <style>\n",
              "    .colab-df-container {\n",
              "      display:flex;\n",
              "      flex-wrap:wrap;\n",
              "      gap: 12px;\n",
              "    }\n",
              "\n",
              "    .colab-df-convert {\n",
              "      background-color: #E8F0FE;\n",
              "      border: none;\n",
              "      border-radius: 50%;\n",
              "      cursor: pointer;\n",
              "      display: none;\n",
              "      fill: #1967D2;\n",
              "      height: 32px;\n",
              "      padding: 0 0 0 0;\n",
              "      width: 32px;\n",
              "    }\n",
              "\n",
              "    .colab-df-convert:hover {\n",
              "      background-color: #E2EBFA;\n",
              "      box-shadow: 0px 1px 2px rgba(60, 64, 67, 0.3), 0px 1px 3px 1px rgba(60, 64, 67, 0.15);\n",
              "      fill: #174EA6;\n",
              "    }\n",
              "\n",
              "    [theme=dark] .colab-df-convert {\n",
              "      background-color: #3B4455;\n",
              "      fill: #D2E3FC;\n",
              "    }\n",
              "\n",
              "    [theme=dark] .colab-df-convert:hover {\n",
              "      background-color: #434B5C;\n",
              "      box-shadow: 0px 1px 3px 1px rgba(0, 0, 0, 0.15);\n",
              "      filter: drop-shadow(0px 1px 2px rgba(0, 0, 0, 0.3));\n",
              "      fill: #FFFFFF;\n",
              "    }\n",
              "  </style>\n",
              "\n",
              "      <script>\n",
              "        const buttonEl =\n",
              "          document.querySelector('#df-d33401b6-c9a8-4cfb-923d-9763a639d0a6 button.colab-df-convert');\n",
              "        buttonEl.style.display =\n",
              "          google.colab.kernel.accessAllowed ? 'block' : 'none';\n",
              "\n",
              "        async function convertToInteractive(key) {\n",
              "          const element = document.querySelector('#df-d33401b6-c9a8-4cfb-923d-9763a639d0a6');\n",
              "          const dataTable =\n",
              "            await google.colab.kernel.invokeFunction('convertToInteractive',\n",
              "                                                     [key], {});\n",
              "          if (!dataTable) return;\n",
              "\n",
              "          const docLinkHtml = 'Like what you see? Visit the ' +\n",
              "            '<a target=\"_blank\" href=https://colab.research.google.com/notebooks/data_table.ipynb>data table notebook</a>'\n",
              "            + ' to learn more about interactive tables.';\n",
              "          element.innerHTML = '';\n",
              "          dataTable['output_type'] = 'display_data';\n",
              "          await google.colab.output.renderOutput(dataTable, element);\n",
              "          const docLink = document.createElement('div');\n",
              "          docLink.innerHTML = docLinkHtml;\n",
              "          element.appendChild(docLink);\n",
              "        }\n",
              "      </script>\n",
              "    </div>\n",
              "  </div>\n",
              "  "
            ]
          },
          "metadata": {},
          "execution_count": 77
        }
      ]
    },
    {
      "cell_type": "markdown",
      "source": [
        "**Data luego de la limpieza** :"
      ],
      "metadata": {
        "id": "9_vx2CGASetb"
      }
    },
    {
      "cell_type": "code",
      "source": [
        "games_sales_data.shape"
      ],
      "metadata": {
        "colab": {
          "base_uri": "https://localhost:8080/"
        },
        "id": "DNdkiFtFSol1",
        "outputId": "ecacdcc2-42c7-4b19-ebf5-1aeacd57bc82"
      },
      "execution_count": 78,
      "outputs": [
        {
          "output_type": "execute_result",
          "data": {
            "text/plain": [
              "(16416, 10)"
            ]
          },
          "metadata": {},
          "execution_count": 78
        }
      ]
    },
    {
      "cell_type": "code",
      "source": [
        "games_sales_data.info()"
      ],
      "metadata": {
        "colab": {
          "base_uri": "https://localhost:8080/"
        },
        "id": "wTSjp503S1ME",
        "outputId": "13c5f791-bc9f-49a0-97b8-027917e619b1"
      },
      "execution_count": 79,
      "outputs": [
        {
          "output_type": "stream",
          "name": "stdout",
          "text": [
            "<class 'pandas.core.frame.DataFrame'>\n",
            "Int64Index: 16416 entries, 0 to 16718\n",
            "Data columns (total 10 columns):\n",
            " #   Column           Non-Null Count  Dtype  \n",
            "---  ------           --------------  -----  \n",
            " 0   name             16416 non-null  object \n",
            " 1   platform         16416 non-null  object \n",
            " 2   year_of_release  16416 non-null  int64  \n",
            " 3   genre            16416 non-null  object \n",
            " 4   publisher        16416 non-null  object \n",
            " 5   na_sales         16416 non-null  float64\n",
            " 6   eu_sales         16416 non-null  float64\n",
            " 7   jp_sales         16416 non-null  float64\n",
            " 8   other_sales      16416 non-null  float64\n",
            " 9   global_sales     16416 non-null  float64\n",
            "dtypes: float64(5), int64(1), object(4)\n",
            "memory usage: 1.9+ MB\n"
          ]
        }
      ]
    },
    {
      "cell_type": "markdown",
      "source": [
        "# 5.Análisis exploratorio, descriptivo y visual de los datos"
      ],
      "metadata": {
        "id": "g0qQ3sUSL_bK"
      }
    },
    {
      "cell_type": "markdown",
      "source": [
        "### 5.1 Analisis general de Ventas"
      ],
      "metadata": {
        "id": "XEJKYpmRV0ao"
      }
    },
    {
      "cell_type": "code",
      "source": [
        "games_sales_data[['na_sales', 'eu_sales', 'jp_sales','other_sales']].describe()"
      ],
      "metadata": {
        "colab": {
          "base_uri": "https://localhost:8080/",
          "height": 300
        },
        "id": "bUh4cJxlRYTe",
        "outputId": "20019714-1dab-4c9d-fb16-5b7a192f2788"
      },
      "execution_count": 80,
      "outputs": [
        {
          "output_type": "execute_result",
          "data": {
            "text/plain": [
              "           na_sales      eu_sales      jp_sales   other_sales\n",
              "count  16416.000000  16416.000000  16416.000000  16416.000000\n",
              "mean       0.264129      0.146034      0.078623      0.047670\n",
              "std        0.819028      0.507134      0.311348      0.188156\n",
              "min        0.000000      0.000000      0.000000      0.000000\n",
              "25%        0.000000      0.000000      0.000000      0.000000\n",
              "50%        0.080000      0.020000      0.000000      0.010000\n",
              "75%        0.240000      0.110000      0.040000      0.030000\n",
              "max       41.360000     28.960000     10.220000     10.570000"
            ],
            "text/html": [
              "\n",
              "  <div id=\"df-d8571844-84bb-44d0-8eaf-11fb58082cb0\">\n",
              "    <div class=\"colab-df-container\">\n",
              "      <div>\n",
              "<style scoped>\n",
              "    .dataframe tbody tr th:only-of-type {\n",
              "        vertical-align: middle;\n",
              "    }\n",
              "\n",
              "    .dataframe tbody tr th {\n",
              "        vertical-align: top;\n",
              "    }\n",
              "\n",
              "    .dataframe thead th {\n",
              "        text-align: right;\n",
              "    }\n",
              "</style>\n",
              "<table border=\"1\" class=\"dataframe\">\n",
              "  <thead>\n",
              "    <tr style=\"text-align: right;\">\n",
              "      <th></th>\n",
              "      <th>na_sales</th>\n",
              "      <th>eu_sales</th>\n",
              "      <th>jp_sales</th>\n",
              "      <th>other_sales</th>\n",
              "    </tr>\n",
              "  </thead>\n",
              "  <tbody>\n",
              "    <tr>\n",
              "      <th>count</th>\n",
              "      <td>16416.000000</td>\n",
              "      <td>16416.000000</td>\n",
              "      <td>16416.000000</td>\n",
              "      <td>16416.000000</td>\n",
              "    </tr>\n",
              "    <tr>\n",
              "      <th>mean</th>\n",
              "      <td>0.264129</td>\n",
              "      <td>0.146034</td>\n",
              "      <td>0.078623</td>\n",
              "      <td>0.047670</td>\n",
              "    </tr>\n",
              "    <tr>\n",
              "      <th>std</th>\n",
              "      <td>0.819028</td>\n",
              "      <td>0.507134</td>\n",
              "      <td>0.311348</td>\n",
              "      <td>0.188156</td>\n",
              "    </tr>\n",
              "    <tr>\n",
              "      <th>min</th>\n",
              "      <td>0.000000</td>\n",
              "      <td>0.000000</td>\n",
              "      <td>0.000000</td>\n",
              "      <td>0.000000</td>\n",
              "    </tr>\n",
              "    <tr>\n",
              "      <th>25%</th>\n",
              "      <td>0.000000</td>\n",
              "      <td>0.000000</td>\n",
              "      <td>0.000000</td>\n",
              "      <td>0.000000</td>\n",
              "    </tr>\n",
              "    <tr>\n",
              "      <th>50%</th>\n",
              "      <td>0.080000</td>\n",
              "      <td>0.020000</td>\n",
              "      <td>0.000000</td>\n",
              "      <td>0.010000</td>\n",
              "    </tr>\n",
              "    <tr>\n",
              "      <th>75%</th>\n",
              "      <td>0.240000</td>\n",
              "      <td>0.110000</td>\n",
              "      <td>0.040000</td>\n",
              "      <td>0.030000</td>\n",
              "    </tr>\n",
              "    <tr>\n",
              "      <th>max</th>\n",
              "      <td>41.360000</td>\n",
              "      <td>28.960000</td>\n",
              "      <td>10.220000</td>\n",
              "      <td>10.570000</td>\n",
              "    </tr>\n",
              "  </tbody>\n",
              "</table>\n",
              "</div>\n",
              "      <button class=\"colab-df-convert\" onclick=\"convertToInteractive('df-d8571844-84bb-44d0-8eaf-11fb58082cb0')\"\n",
              "              title=\"Convert this dataframe to an interactive table.\"\n",
              "              style=\"display:none;\">\n",
              "        \n",
              "  <svg xmlns=\"http://www.w3.org/2000/svg\" height=\"24px\"viewBox=\"0 0 24 24\"\n",
              "       width=\"24px\">\n",
              "    <path d=\"M0 0h24v24H0V0z\" fill=\"none\"/>\n",
              "    <path d=\"M18.56 5.44l.94 2.06.94-2.06 2.06-.94-2.06-.94-.94-2.06-.94 2.06-2.06.94zm-11 1L8.5 8.5l.94-2.06 2.06-.94-2.06-.94L8.5 2.5l-.94 2.06-2.06.94zm10 10l.94 2.06.94-2.06 2.06-.94-2.06-.94-.94-2.06-.94 2.06-2.06.94z\"/><path d=\"M17.41 7.96l-1.37-1.37c-.4-.4-.92-.59-1.43-.59-.52 0-1.04.2-1.43.59L10.3 9.45l-7.72 7.72c-.78.78-.78 2.05 0 2.83L4 21.41c.39.39.9.59 1.41.59.51 0 1.02-.2 1.41-.59l7.78-7.78 2.81-2.81c.8-.78.8-2.07 0-2.86zM5.41 20L4 18.59l7.72-7.72 1.47 1.35L5.41 20z\"/>\n",
              "  </svg>\n",
              "      </button>\n",
              "      \n",
              "  <style>\n",
              "    .colab-df-container {\n",
              "      display:flex;\n",
              "      flex-wrap:wrap;\n",
              "      gap: 12px;\n",
              "    }\n",
              "\n",
              "    .colab-df-convert {\n",
              "      background-color: #E8F0FE;\n",
              "      border: none;\n",
              "      border-radius: 50%;\n",
              "      cursor: pointer;\n",
              "      display: none;\n",
              "      fill: #1967D2;\n",
              "      height: 32px;\n",
              "      padding: 0 0 0 0;\n",
              "      width: 32px;\n",
              "    }\n",
              "\n",
              "    .colab-df-convert:hover {\n",
              "      background-color: #E2EBFA;\n",
              "      box-shadow: 0px 1px 2px rgba(60, 64, 67, 0.3), 0px 1px 3px 1px rgba(60, 64, 67, 0.15);\n",
              "      fill: #174EA6;\n",
              "    }\n",
              "\n",
              "    [theme=dark] .colab-df-convert {\n",
              "      background-color: #3B4455;\n",
              "      fill: #D2E3FC;\n",
              "    }\n",
              "\n",
              "    [theme=dark] .colab-df-convert:hover {\n",
              "      background-color: #434B5C;\n",
              "      box-shadow: 0px 1px 3px 1px rgba(0, 0, 0, 0.15);\n",
              "      filter: drop-shadow(0px 1px 2px rgba(0, 0, 0, 0.3));\n",
              "      fill: #FFFFFF;\n",
              "    }\n",
              "  </style>\n",
              "\n",
              "      <script>\n",
              "        const buttonEl =\n",
              "          document.querySelector('#df-d8571844-84bb-44d0-8eaf-11fb58082cb0 button.colab-df-convert');\n",
              "        buttonEl.style.display =\n",
              "          google.colab.kernel.accessAllowed ? 'block' : 'none';\n",
              "\n",
              "        async function convertToInteractive(key) {\n",
              "          const element = document.querySelector('#df-d8571844-84bb-44d0-8eaf-11fb58082cb0');\n",
              "          const dataTable =\n",
              "            await google.colab.kernel.invokeFunction('convertToInteractive',\n",
              "                                                     [key], {});\n",
              "          if (!dataTable) return;\n",
              "\n",
              "          const docLinkHtml = 'Like what you see? Visit the ' +\n",
              "            '<a target=\"_blank\" href=https://colab.research.google.com/notebooks/data_table.ipynb>data table notebook</a>'\n",
              "            + ' to learn more about interactive tables.';\n",
              "          element.innerHTML = '';\n",
              "          dataTable['output_type'] = 'display_data';\n",
              "          await google.colab.output.renderOutput(dataTable, element);\n",
              "          const docLink = document.createElement('div');\n",
              "          docLink.innerHTML = docLinkHtml;\n",
              "          element.appendChild(docLink);\n",
              "        }\n",
              "      </script>\n",
              "    </div>\n",
              "  </div>\n",
              "  "
            ]
          },
          "metadata": {},
          "execution_count": 80
        }
      ]
    },
    {
      "cell_type": "code",
      "source": [
        "games_sales_data[['global_sales']].describe()"
      ],
      "metadata": {
        "colab": {
          "base_uri": "https://localhost:8080/",
          "height": 300
        },
        "id": "mSKlTo9UWjf6",
        "outputId": "9e0f12fb-dd64-4ebb-c12b-3656019bc9fa"
      },
      "execution_count": 81,
      "outputs": [
        {
          "output_type": "execute_result",
          "data": {
            "text/plain": [
              "       global_sales\n",
              "count  16416.000000\n",
              "mean       0.536708\n",
              "std        1.559885\n",
              "min        0.010000\n",
              "25%        0.060000\n",
              "50%        0.170000\n",
              "75%        0.470000\n",
              "max       82.530000"
            ],
            "text/html": [
              "\n",
              "  <div id=\"df-9fd4776c-5496-445d-9746-d1cf17aa4dda\">\n",
              "    <div class=\"colab-df-container\">\n",
              "      <div>\n",
              "<style scoped>\n",
              "    .dataframe tbody tr th:only-of-type {\n",
              "        vertical-align: middle;\n",
              "    }\n",
              "\n",
              "    .dataframe tbody tr th {\n",
              "        vertical-align: top;\n",
              "    }\n",
              "\n",
              "    .dataframe thead th {\n",
              "        text-align: right;\n",
              "    }\n",
              "</style>\n",
              "<table border=\"1\" class=\"dataframe\">\n",
              "  <thead>\n",
              "    <tr style=\"text-align: right;\">\n",
              "      <th></th>\n",
              "      <th>global_sales</th>\n",
              "    </tr>\n",
              "  </thead>\n",
              "  <tbody>\n",
              "    <tr>\n",
              "      <th>count</th>\n",
              "      <td>16416.000000</td>\n",
              "    </tr>\n",
              "    <tr>\n",
              "      <th>mean</th>\n",
              "      <td>0.536708</td>\n",
              "    </tr>\n",
              "    <tr>\n",
              "      <th>std</th>\n",
              "      <td>1.559885</td>\n",
              "    </tr>\n",
              "    <tr>\n",
              "      <th>min</th>\n",
              "      <td>0.010000</td>\n",
              "    </tr>\n",
              "    <tr>\n",
              "      <th>25%</th>\n",
              "      <td>0.060000</td>\n",
              "    </tr>\n",
              "    <tr>\n",
              "      <th>50%</th>\n",
              "      <td>0.170000</td>\n",
              "    </tr>\n",
              "    <tr>\n",
              "      <th>75%</th>\n",
              "      <td>0.470000</td>\n",
              "    </tr>\n",
              "    <tr>\n",
              "      <th>max</th>\n",
              "      <td>82.530000</td>\n",
              "    </tr>\n",
              "  </tbody>\n",
              "</table>\n",
              "</div>\n",
              "      <button class=\"colab-df-convert\" onclick=\"convertToInteractive('df-9fd4776c-5496-445d-9746-d1cf17aa4dda')\"\n",
              "              title=\"Convert this dataframe to an interactive table.\"\n",
              "              style=\"display:none;\">\n",
              "        \n",
              "  <svg xmlns=\"http://www.w3.org/2000/svg\" height=\"24px\"viewBox=\"0 0 24 24\"\n",
              "       width=\"24px\">\n",
              "    <path d=\"M0 0h24v24H0V0z\" fill=\"none\"/>\n",
              "    <path d=\"M18.56 5.44l.94 2.06.94-2.06 2.06-.94-2.06-.94-.94-2.06-.94 2.06-2.06.94zm-11 1L8.5 8.5l.94-2.06 2.06-.94-2.06-.94L8.5 2.5l-.94 2.06-2.06.94zm10 10l.94 2.06.94-2.06 2.06-.94-2.06-.94-.94-2.06-.94 2.06-2.06.94z\"/><path d=\"M17.41 7.96l-1.37-1.37c-.4-.4-.92-.59-1.43-.59-.52 0-1.04.2-1.43.59L10.3 9.45l-7.72 7.72c-.78.78-.78 2.05 0 2.83L4 21.41c.39.39.9.59 1.41.59.51 0 1.02-.2 1.41-.59l7.78-7.78 2.81-2.81c.8-.78.8-2.07 0-2.86zM5.41 20L4 18.59l7.72-7.72 1.47 1.35L5.41 20z\"/>\n",
              "  </svg>\n",
              "      </button>\n",
              "      \n",
              "  <style>\n",
              "    .colab-df-container {\n",
              "      display:flex;\n",
              "      flex-wrap:wrap;\n",
              "      gap: 12px;\n",
              "    }\n",
              "\n",
              "    .colab-df-convert {\n",
              "      background-color: #E8F0FE;\n",
              "      border: none;\n",
              "      border-radius: 50%;\n",
              "      cursor: pointer;\n",
              "      display: none;\n",
              "      fill: #1967D2;\n",
              "      height: 32px;\n",
              "      padding: 0 0 0 0;\n",
              "      width: 32px;\n",
              "    }\n",
              "\n",
              "    .colab-df-convert:hover {\n",
              "      background-color: #E2EBFA;\n",
              "      box-shadow: 0px 1px 2px rgba(60, 64, 67, 0.3), 0px 1px 3px 1px rgba(60, 64, 67, 0.15);\n",
              "      fill: #174EA6;\n",
              "    }\n",
              "\n",
              "    [theme=dark] .colab-df-convert {\n",
              "      background-color: #3B4455;\n",
              "      fill: #D2E3FC;\n",
              "    }\n",
              "\n",
              "    [theme=dark] .colab-df-convert:hover {\n",
              "      background-color: #434B5C;\n",
              "      box-shadow: 0px 1px 3px 1px rgba(0, 0, 0, 0.15);\n",
              "      filter: drop-shadow(0px 1px 2px rgba(0, 0, 0, 0.3));\n",
              "      fill: #FFFFFF;\n",
              "    }\n",
              "  </style>\n",
              "\n",
              "      <script>\n",
              "        const buttonEl =\n",
              "          document.querySelector('#df-9fd4776c-5496-445d-9746-d1cf17aa4dda button.colab-df-convert');\n",
              "        buttonEl.style.display =\n",
              "          google.colab.kernel.accessAllowed ? 'block' : 'none';\n",
              "\n",
              "        async function convertToInteractive(key) {\n",
              "          const element = document.querySelector('#df-9fd4776c-5496-445d-9746-d1cf17aa4dda');\n",
              "          const dataTable =\n",
              "            await google.colab.kernel.invokeFunction('convertToInteractive',\n",
              "                                                     [key], {});\n",
              "          if (!dataTable) return;\n",
              "\n",
              "          const docLinkHtml = 'Like what you see? Visit the ' +\n",
              "            '<a target=\"_blank\" href=https://colab.research.google.com/notebooks/data_table.ipynb>data table notebook</a>'\n",
              "            + ' to learn more about interactive tables.';\n",
              "          element.innerHTML = '';\n",
              "          dataTable['output_type'] = 'display_data';\n",
              "          await google.colab.output.renderOutput(dataTable, element);\n",
              "          const docLink = document.createElement('div');\n",
              "          docLink.innerHTML = docLinkHtml;\n",
              "          element.appendChild(docLink);\n",
              "        }\n",
              "      </script>\n",
              "    </div>\n",
              "  </div>\n",
              "  "
            ]
          },
          "metadata": {},
          "execution_count": 81
        }
      ]
    },
    {
      "cell_type": "code",
      "source": [
        "#top 10 de Juegos con mayor cantiadad de unidades vendidas mundialmente\n",
        "\n",
        "games_sales_data.sort_values('global_sales', ascending=False)[:10]"
      ],
      "metadata": {
        "colab": {
          "base_uri": "https://localhost:8080/",
          "height": 476
        },
        "id": "mtmyHKE0Q8f9",
        "outputId": "94325b14-2806-473b-826a-4868b599d178"
      },
      "execution_count": 82,
      "outputs": [
        {
          "output_type": "execute_result",
          "data": {
            "text/plain": [
              "                        name platform  year_of_release         genre  \\\n",
              "0                 Wii Sports      Wii             2006        Sports   \n",
              "1          Super Mario Bros.      NES             1985      Platform   \n",
              "2             Mario Kart Wii      Wii             2008        Racing   \n",
              "3          Wii Sports Resort      Wii             2009        Sports   \n",
              "4   Pokemon Red/Pokemon Blue       GB             1996  Role-Playing   \n",
              "5                     Tetris       GB             1989        Puzzle   \n",
              "6      New Super Mario Bros.       DS             2006      Platform   \n",
              "7                   Wii Play      Wii             2006          Misc   \n",
              "8  New Super Mario Bros. Wii      Wii             2009      Platform   \n",
              "9                  Duck Hunt      NES             1984       Shooter   \n",
              "\n",
              "  publisher  na_sales  eu_sales  jp_sales  other_sales  global_sales  \n",
              "0  Nintendo     41.36     28.96      3.77         8.45         82.53  \n",
              "1  Nintendo     29.08      3.58      6.81         0.77         40.24  \n",
              "2  Nintendo     15.68     12.76      3.79         3.29         35.52  \n",
              "3  Nintendo     15.61     10.93      3.28         2.95         32.77  \n",
              "4  Nintendo     11.27      8.89     10.22         1.00         31.37  \n",
              "5  Nintendo     23.20      2.26      4.22         0.58         30.26  \n",
              "6  Nintendo     11.28      9.14      6.50         2.88         29.80  \n",
              "7  Nintendo     13.96      9.18      2.93         2.84         28.92  \n",
              "8  Nintendo     14.44      6.94      4.70         2.24         28.32  \n",
              "9  Nintendo     26.93      0.63      0.28         0.47         28.31  "
            ],
            "text/html": [
              "\n",
              "  <div id=\"df-37185f9c-43d9-4510-96cc-74e3537c1990\">\n",
              "    <div class=\"colab-df-container\">\n",
              "      <div>\n",
              "<style scoped>\n",
              "    .dataframe tbody tr th:only-of-type {\n",
              "        vertical-align: middle;\n",
              "    }\n",
              "\n",
              "    .dataframe tbody tr th {\n",
              "        vertical-align: top;\n",
              "    }\n",
              "\n",
              "    .dataframe thead th {\n",
              "        text-align: right;\n",
              "    }\n",
              "</style>\n",
              "<table border=\"1\" class=\"dataframe\">\n",
              "  <thead>\n",
              "    <tr style=\"text-align: right;\">\n",
              "      <th></th>\n",
              "      <th>name</th>\n",
              "      <th>platform</th>\n",
              "      <th>year_of_release</th>\n",
              "      <th>genre</th>\n",
              "      <th>publisher</th>\n",
              "      <th>na_sales</th>\n",
              "      <th>eu_sales</th>\n",
              "      <th>jp_sales</th>\n",
              "      <th>other_sales</th>\n",
              "      <th>global_sales</th>\n",
              "    </tr>\n",
              "  </thead>\n",
              "  <tbody>\n",
              "    <tr>\n",
              "      <th>0</th>\n",
              "      <td>Wii Sports</td>\n",
              "      <td>Wii</td>\n",
              "      <td>2006</td>\n",
              "      <td>Sports</td>\n",
              "      <td>Nintendo</td>\n",
              "      <td>41.36</td>\n",
              "      <td>28.96</td>\n",
              "      <td>3.77</td>\n",
              "      <td>8.45</td>\n",
              "      <td>82.53</td>\n",
              "    </tr>\n",
              "    <tr>\n",
              "      <th>1</th>\n",
              "      <td>Super Mario Bros.</td>\n",
              "      <td>NES</td>\n",
              "      <td>1985</td>\n",
              "      <td>Platform</td>\n",
              "      <td>Nintendo</td>\n",
              "      <td>29.08</td>\n",
              "      <td>3.58</td>\n",
              "      <td>6.81</td>\n",
              "      <td>0.77</td>\n",
              "      <td>40.24</td>\n",
              "    </tr>\n",
              "    <tr>\n",
              "      <th>2</th>\n",
              "      <td>Mario Kart Wii</td>\n",
              "      <td>Wii</td>\n",
              "      <td>2008</td>\n",
              "      <td>Racing</td>\n",
              "      <td>Nintendo</td>\n",
              "      <td>15.68</td>\n",
              "      <td>12.76</td>\n",
              "      <td>3.79</td>\n",
              "      <td>3.29</td>\n",
              "      <td>35.52</td>\n",
              "    </tr>\n",
              "    <tr>\n",
              "      <th>3</th>\n",
              "      <td>Wii Sports Resort</td>\n",
              "      <td>Wii</td>\n",
              "      <td>2009</td>\n",
              "      <td>Sports</td>\n",
              "      <td>Nintendo</td>\n",
              "      <td>15.61</td>\n",
              "      <td>10.93</td>\n",
              "      <td>3.28</td>\n",
              "      <td>2.95</td>\n",
              "      <td>32.77</td>\n",
              "    </tr>\n",
              "    <tr>\n",
              "      <th>4</th>\n",
              "      <td>Pokemon Red/Pokemon Blue</td>\n",
              "      <td>GB</td>\n",
              "      <td>1996</td>\n",
              "      <td>Role-Playing</td>\n",
              "      <td>Nintendo</td>\n",
              "      <td>11.27</td>\n",
              "      <td>8.89</td>\n",
              "      <td>10.22</td>\n",
              "      <td>1.00</td>\n",
              "      <td>31.37</td>\n",
              "    </tr>\n",
              "    <tr>\n",
              "      <th>5</th>\n",
              "      <td>Tetris</td>\n",
              "      <td>GB</td>\n",
              "      <td>1989</td>\n",
              "      <td>Puzzle</td>\n",
              "      <td>Nintendo</td>\n",
              "      <td>23.20</td>\n",
              "      <td>2.26</td>\n",
              "      <td>4.22</td>\n",
              "      <td>0.58</td>\n",
              "      <td>30.26</td>\n",
              "    </tr>\n",
              "    <tr>\n",
              "      <th>6</th>\n",
              "      <td>New Super Mario Bros.</td>\n",
              "      <td>DS</td>\n",
              "      <td>2006</td>\n",
              "      <td>Platform</td>\n",
              "      <td>Nintendo</td>\n",
              "      <td>11.28</td>\n",
              "      <td>9.14</td>\n",
              "      <td>6.50</td>\n",
              "      <td>2.88</td>\n",
              "      <td>29.80</td>\n",
              "    </tr>\n",
              "    <tr>\n",
              "      <th>7</th>\n",
              "      <td>Wii Play</td>\n",
              "      <td>Wii</td>\n",
              "      <td>2006</td>\n",
              "      <td>Misc</td>\n",
              "      <td>Nintendo</td>\n",
              "      <td>13.96</td>\n",
              "      <td>9.18</td>\n",
              "      <td>2.93</td>\n",
              "      <td>2.84</td>\n",
              "      <td>28.92</td>\n",
              "    </tr>\n",
              "    <tr>\n",
              "      <th>8</th>\n",
              "      <td>New Super Mario Bros. Wii</td>\n",
              "      <td>Wii</td>\n",
              "      <td>2009</td>\n",
              "      <td>Platform</td>\n",
              "      <td>Nintendo</td>\n",
              "      <td>14.44</td>\n",
              "      <td>6.94</td>\n",
              "      <td>4.70</td>\n",
              "      <td>2.24</td>\n",
              "      <td>28.32</td>\n",
              "    </tr>\n",
              "    <tr>\n",
              "      <th>9</th>\n",
              "      <td>Duck Hunt</td>\n",
              "      <td>NES</td>\n",
              "      <td>1984</td>\n",
              "      <td>Shooter</td>\n",
              "      <td>Nintendo</td>\n",
              "      <td>26.93</td>\n",
              "      <td>0.63</td>\n",
              "      <td>0.28</td>\n",
              "      <td>0.47</td>\n",
              "      <td>28.31</td>\n",
              "    </tr>\n",
              "  </tbody>\n",
              "</table>\n",
              "</div>\n",
              "      <button class=\"colab-df-convert\" onclick=\"convertToInteractive('df-37185f9c-43d9-4510-96cc-74e3537c1990')\"\n",
              "              title=\"Convert this dataframe to an interactive table.\"\n",
              "              style=\"display:none;\">\n",
              "        \n",
              "  <svg xmlns=\"http://www.w3.org/2000/svg\" height=\"24px\"viewBox=\"0 0 24 24\"\n",
              "       width=\"24px\">\n",
              "    <path d=\"M0 0h24v24H0V0z\" fill=\"none\"/>\n",
              "    <path d=\"M18.56 5.44l.94 2.06.94-2.06 2.06-.94-2.06-.94-.94-2.06-.94 2.06-2.06.94zm-11 1L8.5 8.5l.94-2.06 2.06-.94-2.06-.94L8.5 2.5l-.94 2.06-2.06.94zm10 10l.94 2.06.94-2.06 2.06-.94-2.06-.94-.94-2.06-.94 2.06-2.06.94z\"/><path d=\"M17.41 7.96l-1.37-1.37c-.4-.4-.92-.59-1.43-.59-.52 0-1.04.2-1.43.59L10.3 9.45l-7.72 7.72c-.78.78-.78 2.05 0 2.83L4 21.41c.39.39.9.59 1.41.59.51 0 1.02-.2 1.41-.59l7.78-7.78 2.81-2.81c.8-.78.8-2.07 0-2.86zM5.41 20L4 18.59l7.72-7.72 1.47 1.35L5.41 20z\"/>\n",
              "  </svg>\n",
              "      </button>\n",
              "      \n",
              "  <style>\n",
              "    .colab-df-container {\n",
              "      display:flex;\n",
              "      flex-wrap:wrap;\n",
              "      gap: 12px;\n",
              "    }\n",
              "\n",
              "    .colab-df-convert {\n",
              "      background-color: #E8F0FE;\n",
              "      border: none;\n",
              "      border-radius: 50%;\n",
              "      cursor: pointer;\n",
              "      display: none;\n",
              "      fill: #1967D2;\n",
              "      height: 32px;\n",
              "      padding: 0 0 0 0;\n",
              "      width: 32px;\n",
              "    }\n",
              "\n",
              "    .colab-df-convert:hover {\n",
              "      background-color: #E2EBFA;\n",
              "      box-shadow: 0px 1px 2px rgba(60, 64, 67, 0.3), 0px 1px 3px 1px rgba(60, 64, 67, 0.15);\n",
              "      fill: #174EA6;\n",
              "    }\n",
              "\n",
              "    [theme=dark] .colab-df-convert {\n",
              "      background-color: #3B4455;\n",
              "      fill: #D2E3FC;\n",
              "    }\n",
              "\n",
              "    [theme=dark] .colab-df-convert:hover {\n",
              "      background-color: #434B5C;\n",
              "      box-shadow: 0px 1px 3px 1px rgba(0, 0, 0, 0.15);\n",
              "      filter: drop-shadow(0px 1px 2px rgba(0, 0, 0, 0.3));\n",
              "      fill: #FFFFFF;\n",
              "    }\n",
              "  </style>\n",
              "\n",
              "      <script>\n",
              "        const buttonEl =\n",
              "          document.querySelector('#df-37185f9c-43d9-4510-96cc-74e3537c1990 button.colab-df-convert');\n",
              "        buttonEl.style.display =\n",
              "          google.colab.kernel.accessAllowed ? 'block' : 'none';\n",
              "\n",
              "        async function convertToInteractive(key) {\n",
              "          const element = document.querySelector('#df-37185f9c-43d9-4510-96cc-74e3537c1990');\n",
              "          const dataTable =\n",
              "            await google.colab.kernel.invokeFunction('convertToInteractive',\n",
              "                                                     [key], {});\n",
              "          if (!dataTable) return;\n",
              "\n",
              "          const docLinkHtml = 'Like what you see? Visit the ' +\n",
              "            '<a target=\"_blank\" href=https://colab.research.google.com/notebooks/data_table.ipynb>data table notebook</a>'\n",
              "            + ' to learn more about interactive tables.';\n",
              "          element.innerHTML = '';\n",
              "          dataTable['output_type'] = 'display_data';\n",
              "          await google.colab.output.renderOutput(dataTable, element);\n",
              "          const docLink = document.createElement('div');\n",
              "          docLink.innerHTML = docLinkHtml;\n",
              "          element.appendChild(docLink);\n",
              "        }\n",
              "      </script>\n",
              "    </div>\n",
              "  </div>\n",
              "  "
            ]
          },
          "metadata": {},
          "execution_count": 82
        }
      ]
    },
    {
      "cell_type": "markdown",
      "source": [
        "- La media de unidades vendidas en la region Norteamericana es considerablemente mayor que en el resto de las regiones con un maximo de 41.36 millones de copias vendidas\n",
        "\n",
        "- El valor maximo de unidades vendidas a nivel mundial es de 82.54 Millones de copias y corresponde al Juego Wii Sports"
      ],
      "metadata": {
        "id": "b6-Y2yIHWN1R"
      }
    },
    {
      "cell_type": "markdown",
      "source": [
        "### 5.2 Cómo evolucionaron las ventas de Videojuegos a lo largo del tiempo?"
      ],
      "metadata": {
        "id": "b7moBdiPCpJl"
      }
    },
    {
      "cell_type": "code",
      "source": [
        "#importo librerias para graficos\n",
        "\n",
        "import matplotlib.pyplot as plt\n",
        "\n",
        "import seaborn as sns"
      ],
      "metadata": {
        "id": "Jz7jaf3TZnNR"
      },
      "execution_count": 83,
      "outputs": []
    },
    {
      "cell_type": "code",
      "source": [
        "#grafico ventas mundiales por año de lanzamiento\n",
        "\n",
        "ventas_mundiales=games_sales_data.groupby('year_of_release')['global_sales'].sum()\n",
        "\n",
        "ventas_mundiales.plot(kind='bar',figsize=(12,6),color ='grey')\n",
        "plt.xlabel('Año de lanzamiento') \n",
        "plt.ylabel('Unidades Vendidas (M)') \n",
        "plt.title('Ventas Mundiales por Año de lanzamiento')\n",
        "plt.annotate('Aumento en ventas',\n",
        "            xy = (22, 450),\n",
        "            rotation= 45,\n",
        "            va = 'bottom',\n",
        "            ha = 'left')\n",
        "plt.annotate('',\n",
        "            xy=(30, 700),\n",
        "            xytext=(20, 280),\n",
        "            xycoords='data',\n",
        "            arrowprops=dict(arrowstyle='->', connectionstyle='arc3', color='blue', lw=1.5))\n",
        "plt.show()"
      ],
      "metadata": {
        "colab": {
          "base_uri": "https://localhost:8080/",
          "height": 420
        },
        "id": "7lA0saHKsA-R",
        "outputId": "cae5ecba-1def-4968-9d20-239273a1c283"
      },
      "execution_count": 84,
      "outputs": [
        {
          "output_type": "display_data",
          "data": {
            "text/plain": [
              "<Figure size 864x432 with 1 Axes>"
            ],
            "image/png": "[encoded data removed]"
          },
          "metadata": {
            "needs_background": "light"
          }
        }
      ]
    },
    {
      "cell_type": "markdown",
      "source": [
        "* Se observa un aumento en ventas mundiales a fines de la decada de los 90' con un maximo de ventas comprendido entre el 2008 y 2009.\n",
        "\n",
        "* A partir del año 2010 se puede ver una clara tendencia a la baja en ventas mundiales de VideoJuegos"
      ],
      "metadata": {
        "id": "rm24daqQMUYW"
      }
    },
    {
      "cell_type": "code",
      "source": [
        "#juegos mas vendidos mundialmenteen el año 2008\n",
        "\n",
        "games_sales_data.loc[games_sales_data.year_of_release == 2008 ].sort_values('global_sales',ascending=False ).head()"
      ],
      "metadata": {
        "colab": {
          "base_uri": "https://localhost:8080/",
          "height": 337
        },
        "id": "fFABKX7XR3r7",
        "outputId": "fe1d762e-7bb3-41ed-e57a-646b83f37f0e"
      },
      "execution_count": 85,
      "outputs": [
        {
          "output_type": "execute_result",
          "data": {
            "text/plain": [
              "                        name platform  year_of_release         genre  \\\n",
              "2             Mario Kart Wii      Wii             2008        Racing   \n",
              "39   Super Smash Bros. Brawl      Wii             2008      Fighting   \n",
              "51       Grand Theft Auto IV     X360             2008        Action   \n",
              "57       Grand Theft Auto IV      PS3             2008        Action   \n",
              "90  Pokémon Platinum Version       DS             2008  Role-Playing   \n",
              "\n",
              "               publisher  na_sales  eu_sales  jp_sales  other_sales  \\\n",
              "2               Nintendo     15.68     12.76      3.79         3.29   \n",
              "39              Nintendo      6.62      2.55      2.66         1.01   \n",
              "51  Take-Two Interactive      6.76      3.07      0.14         1.03   \n",
              "57  Take-Two Interactive      4.76      3.69      0.44         1.61   \n",
              "90              Nintendo      2.76      1.72      2.69         0.54   \n",
              "\n",
              "    global_sales  \n",
              "2          35.52  \n",
              "39         12.84  \n",
              "51         11.01  \n",
              "57         10.50  \n",
              "90          7.72  "
            ],
            "text/html": [
              "\n",
              "  <div id=\"df-b020178c-17e6-4415-92d7-8d085e045b0e\">\n",
              "    <div class=\"colab-df-container\">\n",
              "      <div>\n",
              "<style scoped>\n",
              "    .dataframe tbody tr th:only-of-type {\n",
              "        vertical-align: middle;\n",
              "    }\n",
              "\n",
              "    .dataframe tbody tr th {\n",
              "        vertical-align: top;\n",
              "    }\n",
              "\n",
              "    .dataframe thead th {\n",
              "        text-align: right;\n",
              "    }\n",
              "</style>\n",
              "<table border=\"1\" class=\"dataframe\">\n",
              "  <thead>\n",
              "    <tr style=\"text-align: right;\">\n",
              "      <th></th>\n",
              "      <th>name</th>\n",
              "      <th>platform</th>\n",
              "      <th>year_of_release</th>\n",
              "      <th>genre</th>\n",
              "      <th>publisher</th>\n",
              "      <th>na_sales</th>\n",
              "      <th>eu_sales</th>\n",
              "      <th>jp_sales</th>\n",
              "      <th>other_sales</th>\n",
              "      <th>global_sales</th>\n",
              "    </tr>\n",
              "  </thead>\n",
              "  <tbody>\n",
              "    <tr>\n",
              "      <th>2</th>\n",
              "      <td>Mario Kart Wii</td>\n",
              "      <td>Wii</td>\n",
              "      <td>2008</td>\n",
              "      <td>Racing</td>\n",
              "      <td>Nintendo</td>\n",
              "      <td>15.68</td>\n",
              "      <td>12.76</td>\n",
              "      <td>3.79</td>\n",
              "      <td>3.29</td>\n",
              "      <td>35.52</td>\n",
              "    </tr>\n",
              "    <tr>\n",
              "      <th>39</th>\n",
              "      <td>Super Smash Bros. Brawl</td>\n",
              "      <td>Wii</td>\n",
              "      <td>2008</td>\n",
              "      <td>Fighting</td>\n",
              "      <td>Nintendo</td>\n",
              "      <td>6.62</td>\n",
              "      <td>2.55</td>\n",
              "      <td>2.66</td>\n",
              "      <td>1.01</td>\n",
              "      <td>12.84</td>\n",
              "    </tr>\n",
              "    <tr>\n",
              "      <th>51</th>\n",
              "      <td>Grand Theft Auto IV</td>\n",
              "      <td>X360</td>\n",
              "      <td>2008</td>\n",
              "      <td>Action</td>\n",
              "      <td>Take-Two Interactive</td>\n",
              "      <td>6.76</td>\n",
              "      <td>3.07</td>\n",
              "      <td>0.14</td>\n",
              "      <td>1.03</td>\n",
              "      <td>11.01</td>\n",
              "    </tr>\n",
              "    <tr>\n",
              "      <th>57</th>\n",
              "      <td>Grand Theft Auto IV</td>\n",
              "      <td>PS3</td>\n",
              "      <td>2008</td>\n",
              "      <td>Action</td>\n",
              "      <td>Take-Two Interactive</td>\n",
              "      <td>4.76</td>\n",
              "      <td>3.69</td>\n",
              "      <td>0.44</td>\n",
              "      <td>1.61</td>\n",
              "      <td>10.50</td>\n",
              "    </tr>\n",
              "    <tr>\n",
              "      <th>90</th>\n",
              "      <td>Pokémon Platinum Version</td>\n",
              "      <td>DS</td>\n",
              "      <td>2008</td>\n",
              "      <td>Role-Playing</td>\n",
              "      <td>Nintendo</td>\n",
              "      <td>2.76</td>\n",
              "      <td>1.72</td>\n",
              "      <td>2.69</td>\n",
              "      <td>0.54</td>\n",
              "      <td>7.72</td>\n",
              "    </tr>\n",
              "  </tbody>\n",
              "</table>\n",
              "</div>\n",
              "      <button class=\"colab-df-convert\" onclick=\"convertToInteractive('df-b020178c-17e6-4415-92d7-8d085e045b0e')\"\n",
              "              title=\"Convert this dataframe to an interactive table.\"\n",
              "              style=\"display:none;\">\n",
              "        \n",
              "  <svg xmlns=\"http://www.w3.org/2000/svg\" height=\"24px\"viewBox=\"0 0 24 24\"\n",
              "       width=\"24px\">\n",
              "    <path d=\"M0 0h24v24H0V0z\" fill=\"none\"/>\n",
              "    <path d=\"M18.56 5.44l.94 2.06.94-2.06 2.06-.94-2.06-.94-.94-2.06-.94 2.06-2.06.94zm-11 1L8.5 8.5l.94-2.06 2.06-.94-2.06-.94L8.5 2.5l-.94 2.06-2.06.94zm10 10l.94 2.06.94-2.06 2.06-.94-2.06-.94-.94-2.06-.94 2.06-2.06.94z\"/><path d=\"M17.41 7.96l-1.37-1.37c-.4-.4-.92-.59-1.43-.59-.52 0-1.04.2-1.43.59L10.3 9.45l-7.72 7.72c-.78.78-.78 2.05 0 2.83L4 21.41c.39.39.9.59 1.41.59.51 0 1.02-.2 1.41-.59l7.78-7.78 2.81-2.81c.8-.78.8-2.07 0-2.86zM5.41 20L4 18.59l7.72-7.72 1.47 1.35L5.41 20z\"/>\n",
              "  </svg>\n",
              "      </button>\n",
              "      \n",
              "  <style>\n",
              "    .colab-df-container {\n",
              "      display:flex;\n",
              "      flex-wrap:wrap;\n",
              "      gap: 12px;\n",
              "    }\n",
              "\n",
              "    .colab-df-convert {\n",
              "      background-color: #E8F0FE;\n",
              "      border: none;\n",
              "      border-radius: 50%;\n",
              "      cursor: pointer;\n",
              "      display: none;\n",
              "      fill: #1967D2;\n",
              "      height: 32px;\n",
              "      padding: 0 0 0 0;\n",
              "      width: 32px;\n",
              "    }\n",
              "\n",
              "    .colab-df-convert:hover {\n",
              "      background-color: #E2EBFA;\n",
              "      box-shadow: 0px 1px 2px rgba(60, 64, 67, 0.3), 0px 1px 3px 1px rgba(60, 64, 67, 0.15);\n",
              "      fill: #174EA6;\n",
              "    }\n",
              "\n",
              "    [theme=dark] .colab-df-convert {\n",
              "      background-color: #3B4455;\n",
              "      fill: #D2E3FC;\n",
              "    }\n",
              "\n",
              "    [theme=dark] .colab-df-convert:hover {\n",
              "      background-color: #434B5C;\n",
              "      box-shadow: 0px 1px 3px 1px rgba(0, 0, 0, 0.15);\n",
              "      filter: drop-shadow(0px 1px 2px rgba(0, 0, 0, 0.3));\n",
              "      fill: #FFFFFF;\n",
              "    }\n",
              "  </style>\n",
              "\n",
              "      <script>\n",
              "        const buttonEl =\n",
              "          document.querySelector('#df-b020178c-17e6-4415-92d7-8d085e045b0e button.colab-df-convert');\n",
              "        buttonEl.style.display =\n",
              "          google.colab.kernel.accessAllowed ? 'block' : 'none';\n",
              "\n",
              "        async function convertToInteractive(key) {\n",
              "          const element = document.querySelector('#df-b020178c-17e6-4415-92d7-8d085e045b0e');\n",
              "          const dataTable =\n",
              "            await google.colab.kernel.invokeFunction('convertToInteractive',\n",
              "                                                     [key], {});\n",
              "          if (!dataTable) return;\n",
              "\n",
              "          const docLinkHtml = 'Like what you see? Visit the ' +\n",
              "            '<a target=\"_blank\" href=https://colab.research.google.com/notebooks/data_table.ipynb>data table notebook</a>'\n",
              "            + ' to learn more about interactive tables.';\n",
              "          element.innerHTML = '';\n",
              "          dataTable['output_type'] = 'display_data';\n",
              "          await google.colab.output.renderOutput(dataTable, element);\n",
              "          const docLink = document.createElement('div');\n",
              "          docLink.innerHTML = docLinkHtml;\n",
              "          element.appendChild(docLink);\n",
              "        }\n",
              "      </script>\n",
              "    </div>\n",
              "  </div>\n",
              "  "
            ]
          },
          "metadata": {},
          "execution_count": 85
        }
      ]
    },
    {
      "cell_type": "markdown",
      "source": [
        "* El juego con mas ventas a nivel mundial en el año 2008 (año record en ventas del periodo analizado) es el Mario Kart para la consola Wii de Nintendo con un total de 35.5 Millones de Unidades vendidas\n",
        "* El siguiente juego con mayor cantidad de ventas mundiales en el mismo año (Super Smash Bros.Brawl) representa menos del 40% de las ventas de Mario Kart de la misma consola."
      ],
      "metadata": {
        "id": "u9Vb1UycNc8H"
      }
    },
    {
      "cell_type": "code",
      "source": [
        "ventas_region_df=games_sales_data.groupby('year_of_release')['na_sales','eu_sales','jp_sales','other_sales'].sum()\n",
        "# ventas_region_df.plot()\n",
        "\n",
        "colors = ['purple', 'blue', 'green', 'grey', 'orange']\n",
        "ventas_region_df.plot(kind='line', stacked=False, figsize=(15, 8), color = colors)\n",
        "plt.title('Evolucion Ventas por Region')\n",
        "plt.ylabel('Unidades Vendidas (M)')\n",
        "plt.xlabel('Año de lanzamiento')\n",
        "plt.show()"
      ],
      "metadata": {
        "colab": {
          "base_uri": "https://localhost:8080/",
          "height": 569
        },
        "id": "rlHko-qrwd8n",
        "outputId": "bab37bd8-c009-450b-8fb6-2f9f7bbce2ad"
      },
      "execution_count": 86,
      "outputs": [
        {
          "output_type": "stream",
          "name": "stderr",
          "text": [
            "/usr/local/lib/python3.7/dist-packages/ipykernel_launcher.py:1: FutureWarning: Indexing with multiple keys (implicitly converted to a tuple of keys) will be deprecated, use a list instead.\n",
            "  \"\"\"Entry point for launching an IPython kernel.\n"
          ]
        },
        {
          "output_type": "display_data",
          "data": {
            "text/plain": [
              "<Figure size 1080x576 with 1 Axes>"
            ],
            "image/png": "[encoded data removed]"
          },
          "metadata": {
            "needs_background": "light"
          }
        }
      ]
    },
    {
      "cell_type": "markdown",
      "source": [
        "* En este grafico se evidencia que la gran mayoria de las ventas mundiales corresponde a las regiones de Norteamerica y Europa\n",
        "* El comportamiento con respecto a la tendencia en el aumento de ventas regionales es similar al de las ventas mundiales, excepto para Japon donde el crecimiento en ventas es menos pronunciado.\n",
        "* Para Japon , el maximo de ventas se alcanzo en el año 2006 y en el siguiente grafico se puede ver como existe cierta estacionalidad en las ventas"
      ],
      "metadata": {
        "id": "Dw-gYCcwOfj-"
      }
    },
    {
      "cell_type": "code",
      "source": [
        "ventas_mundiales=games_sales_data.groupby('year_of_release')['jp_sales'].sum()\n",
        "\n",
        "ventas_mundiales.plot(kind='bar',figsize=(12,6),color ='green')\n",
        "plt.xlabel('Año de lanzamiento') \n",
        "plt.ylabel('Unidades Vendidas (M)') \n",
        "plt.title('Ventas Japon por Año de lanzamiento')\n",
        "plt.show()"
      ],
      "metadata": {
        "colab": {
          "base_uri": "https://localhost:8080/",
          "height": 420
        },
        "id": "nL4CkpUAPbY7",
        "outputId": "7999619f-474f-4647-83ea-7030f0ed21d9"
      },
      "execution_count": 87,
      "outputs": [
        {
          "output_type": "display_data",
          "data": {
            "text/plain": [
              "<Figure size 864x432 with 1 Axes>"
            ],
            "image/png": "[encoded data removed]"
          },
          "metadata": {
            "needs_background": "light"
          }
        }
      ]
    },
    {
      "cell_type": "markdown",
      "source": [
        "### 5.3 Juegos publicados y ventas a nivel Plataforma:"
      ],
      "metadata": {
        "id": "-6iZPkWnDamk"
      }
    },
    {
      "cell_type": "code",
      "source": [
        "cant_juegos_plataforma = games_sales_data.groupby('platform')['name'].count().sort_values(ascending=True)\n",
        "\n",
        "cant_juegos_plataforma.plot(kind='barh',figsize=(10,10),color='pink')\n",
        "plt.xlabel('Cantidad de juegos') \n",
        "plt.ylabel('Plataforma') \n",
        "plt.title('Cantidad de juegos publicados por Plataforma')\n",
        "for index, value in enumerate(cant_juegos_plataforma):\n",
        "    label = format(int(value), ',')\n",
        "    plt.annotate(label, xy=(value-120, index-0.2), color='black')\n",
        "plt.show()"
      ],
      "metadata": {
        "colab": {
          "base_uri": "https://localhost:8080/",
          "height": 621
        },
        "id": "XinROViQ52Y2",
        "outputId": "3144b4de-470f-4aaa-8162-4649782e8c5d"
      },
      "execution_count": 88,
      "outputs": [
        {
          "output_type": "display_data",
          "data": {
            "text/plain": [
              "<Figure size 720x720 with 1 Axes>"
            ],
            "image/png": "[encoded data removed]"
          },
          "metadata": {
            "needs_background": "light"
          }
        }
      ]
    },
    {
      "cell_type": "code",
      "source": [
        "ventas_plataforma=games_sales_data.groupby('platform')['global_sales'].sum().sort_values(ascending=True)\n",
        "\n",
        "ventas_plataforma.plot(kind='barh',figsize=(10,14),color='steelblue')\n",
        "plt.xlabel('Unidades Vendidas (M)') \n",
        "plt.ylabel('Plataforma') \n",
        "plt.title('Ventas Mundiales por Plataforma')\n",
        "for index, value in enumerate(ventas_plataforma):\n",
        "    label = format(int(value), ',')\n",
        "    plt.annotate(label, xy=(value-65, index-0.1), color='white')\n",
        "plt.show()"
      ],
      "metadata": {
        "colab": {
          "base_uri": "https://localhost:8080/",
          "height": 839
        },
        "id": "XfdlhV-ztOaC",
        "outputId": "2d52c346-4390-4c9c-d6d4-64057b8079a0"
      },
      "execution_count": 89,
      "outputs": [
        {
          "output_type": "display_data",
          "data": {
            "text/plain": [
              "<Figure size 720x1008 with 1 Axes>"
            ],
            "image/png": "[encoded data removed]"
          },
          "metadata": {
            "needs_background": "light"
          }
        }
      ]
    },
    {
      "cell_type": "markdown",
      "source": [
        "* Las plataformas con mayor cantidad de juegos publicados a nivel mundial son \n",
        "   1. Sony PlayStation 2 (Lanzamiento 2000)\n",
        "   2. Nintendo DS (Lanzamiento 2004)\n",
        "   3. Sony PlayStation 3 (Lanzamiento 2006)\n",
        "\n",
        "* Las plataformas con mayor cantidad de ventas a nivel mundial son\n",
        "   1. Sony PlayStation 2\n",
        "   2. Microsoft XBox360 (Lanzamiento 2005)\n",
        "   3. Sony PlayStation 3\n",
        "\n",
        "  siendo Nintendo DS nro 5 en ventas mundiales a pesar de ser 2ndo lugar en cantidad de juegos publicados\n",
        "\n",
        "* La cantidad de juegos publicada para PS2 y PS3 y las posiciones para cada una en el ranking pueden explicarse con la fecha de lanzamiento de cada consola siendo PS2 mas antigua que PS3 y por ende con mayor cantidad de juegos publicados en el periodo analizado.\n"
      ],
      "metadata": {
        "id": "9Nb-8ln9RjjY"
      }
    },
    {
      "cell_type": "markdown",
      "source": [
        "### 5.4 Qué generos son los mas populares a nivel mundial y regional?"
      ],
      "metadata": {
        "id": "vQFsAxCjSkla"
      }
    },
    {
      "cell_type": "code",
      "source": [
        "ventas_plataforma=games_sales_data.groupby('genre')['global_sales'].sum().sort_values(ascending=True)\n",
        "\n",
        "ventas_plataforma.plot(kind='barh',figsize=(10,8),color='purple')\n",
        "plt.xlabel('Unidades Vendidas (M)') \n",
        "plt.ylabel('Plataforma') \n",
        "plt.title('Ventas Mundiales por Genero')\n",
        "for index, value in enumerate(ventas_plataforma):\n",
        "    label = format(int(value), ',')\n",
        "    plt.annotate(label, xy=(value-100, index-0.1), color='white')\n",
        "plt.show()"
      ],
      "metadata": {
        "colab": {
          "base_uri": "https://localhost:8080/",
          "height": 513
        },
        "id": "66s6xlzoWWe3",
        "outputId": "abfb6f0e-de43-4047-d858-40691d5af3d1"
      },
      "execution_count": 90,
      "outputs": [
        {
          "output_type": "display_data",
          "data": {
            "text/plain": [
              "<Figure size 720x576 with 1 Axes>"
            ],
            "image/png": "[encoded data removed]"
          },
          "metadata": {
            "needs_background": "light"
          }
        }
      ]
    },
    {
      "cell_type": "code",
      "source": [
        "ventas_genre_df=games_sales_data.groupby('genre')['na_sales','eu_sales','jp_sales','other_sales'].sum()\n",
        "\n",
        "ventas_genre_df.plot(kind='bar',figsize=(15,8),color= colors,width=0.8)\n",
        "plt.xlabel('Genero') \n",
        "plt.ylabel('Unidades Vendidas (M)') \n",
        "plt.title('Ventas por Genero y Region')\n",
        "plt.show()"
      ],
      "metadata": {
        "colab": {
          "base_uri": "https://localhost:8080/",
          "height": 620
        },
        "id": "21_O3niDKCoY",
        "outputId": "a20b2ad0-f8f4-4da6-b864-52f8997da233"
      },
      "execution_count": 91,
      "outputs": [
        {
          "output_type": "stream",
          "name": "stderr",
          "text": [
            "/usr/local/lib/python3.7/dist-packages/ipykernel_launcher.py:1: FutureWarning: Indexing with multiple keys (implicitly converted to a tuple of keys) will be deprecated, use a list instead.\n",
            "  \"\"\"Entry point for launching an IPython kernel.\n"
          ]
        },
        {
          "output_type": "display_data",
          "data": {
            "text/plain": [
              "<Figure size 1080x576 with 1 Axes>"
            ],
            "image/png": "[encoded data removed]"
          },
          "metadata": {
            "needs_background": "light"
          }
        }
      ]
    },
    {
      "cell_type": "markdown",
      "source": [
        "* Los juegos con mayor cantidad de ventas a nivel mundial son los correspondientes a los generos de Accion, Deportes (Sports) y Shooter (Tirador). Este ultimo genero se caracteriza por uso de armas de fuego para matar a los enemigos. El 4to juego mas importante en cuanto a ventas mundiales es el de Rol - Playing o Juego de Rol\n",
        "\n",
        "* Si analizamos el nivel de ventas por Genero aperturado por Region se puede observar un comportamiento similar para las regiones de NorteAmerica y Europa las cuales replican el comportamiento a nivel mundial ya que concentran la mayor cantidad de ventas.\n",
        "\n",
        "* Para la region de Japon el Genero mas popular es el de Juegos de Rol"
      ],
      "metadata": {
        "id": "0SDekc1IWDdc"
      }
    },
    {
      "cell_type": "markdown",
      "source": [
        "# 6.Planteo y contrastación de hipótesis - demostración visual de resultados"
      ],
      "metadata": {
        "id": "dsLq-uDGMFOQ"
      }
    },
    {
      "cell_type": "markdown",
      "source": [
        "Se quiere comparar las ventas mundiales del año 2000 versus 2010 y comprobar que las ventas del 2010 superan a las ventas alcanzadas en 2000 a nivel mundial. Para ello se hace el planteo de las siguientes hipotesis:\n",
        "\n",
        "* h1 : Las ventas globales en 2010 superan a las de 2000\n",
        "* h0 : Las ventas de 2010 no superan a las de el año 2000\n"
      ],
      "metadata": {
        "id": "ae2PlqMH4Kc4"
      }
    },
    {
      "cell_type": "code",
      "source": [
        "#cantidad de muestra ventas 2010\n",
        "ventas_2010 = games_sales_data.loc[games_sales_data.year_of_release == 2010 ].global_sales\n",
        "len(ventas_2010)"
      ],
      "metadata": {
        "colab": {
          "base_uri": "https://localhost:8080/"
        },
        "id": "-wkqBh0gkTVU",
        "outputId": "da0bcd3d-006a-40bc-b05f-3cd067f7a3ef"
      },
      "execution_count": 92,
      "outputs": [
        {
          "output_type": "execute_result",
          "data": {
            "text/plain": [
              "1253"
            ]
          },
          "metadata": {},
          "execution_count": 92
        }
      ]
    },
    {
      "cell_type": "code",
      "source": [
        "#cantidad de muestra ventas 2000\n",
        "ventas_2000 = games_sales_data.loc[games_sales_data.year_of_release == 2000 ].global_sales\n",
        "len(ventas_2000)"
      ],
      "metadata": {
        "colab": {
          "base_uri": "https://localhost:8080/"
        },
        "id": "tVjka7Bjml-a",
        "outputId": "3c8844ed-e59c-4afa-fac8-7235803efa94"
      },
      "execution_count": 93,
      "outputs": [
        {
          "output_type": "execute_result",
          "data": {
            "text/plain": [
              "350"
            ]
          },
          "metadata": {},
          "execution_count": 93
        }
      ]
    },
    {
      "cell_type": "code",
      "source": [
        "#grafico histograma para las ventas de 2010\n",
        "ventas_2010.hist()"
      ],
      "metadata": {
        "colab": {
          "base_uri": "https://localhost:8080/",
          "height": 283
        },
        "id": "aBwZ_9B8nP1G",
        "outputId": "2419736e-a086-4675-a188-de813c05a513"
      },
      "execution_count": 94,
      "outputs": [
        {
          "output_type": "execute_result",
          "data": {
            "text/plain": [
              "<matplotlib.axes._subplots.AxesSubplot at 0x7f5402f52590>"
            ]
          },
          "metadata": {},
          "execution_count": 94
        },
        {
          "output_type": "display_data",
          "data": {
            "text/plain": [
              "<Figure size 432x288 with 1 Axes>"
            ],
            "image/png": "[encoded data removed]"
          },
          "metadata": {
            "needs_background": "light"
          }
        }
      ]
    },
    {
      "cell_type": "code",
      "source": [
        "ventas_2010.describe()"
      ],
      "metadata": {
        "colab": {
          "base_uri": "https://localhost:8080/"
        },
        "id": "coa6mcC0oY4V",
        "outputId": "976262ab-9d81-445d-d0f4-d45b934c5025"
      },
      "execution_count": 95,
      "outputs": [
        {
          "output_type": "execute_result",
          "data": {
            "text/plain": [
              "count    1253.000000\n",
              "mean        0.471213\n",
              "std         1.288432\n",
              "min         0.010000\n",
              "25%         0.050000\n",
              "50%         0.150000\n",
              "75%         0.390000\n",
              "max        21.810000\n",
              "Name: global_sales, dtype: float64"
            ]
          },
          "metadata": {},
          "execution_count": 95
        }
      ]
    },
    {
      "cell_type": "code",
      "source": [
        "#grafico de histograma para ventas 2000\n",
        "ventas_2000.hist()"
      ],
      "metadata": {
        "colab": {
          "base_uri": "https://localhost:8080/",
          "height": 283
        },
        "id": "TrNboUVaoUV-",
        "outputId": "f9abcb60-6dce-4881-ce64-b08fb8873fda"
      },
      "execution_count": 96,
      "outputs": [
        {
          "output_type": "execute_result",
          "data": {
            "text/plain": [
              "<matplotlib.axes._subplots.AxesSubplot at 0x7f5402e7a350>"
            ]
          },
          "metadata": {},
          "execution_count": 96
        },
        {
          "output_type": "display_data",
          "data": {
            "text/plain": [
              "<Figure size 432x288 with 1 Axes>"
            ],
            "image/png": "[encoded data removed]"
          },
          "metadata": {
            "needs_background": "light"
          }
        }
      ]
    },
    {
      "cell_type": "code",
      "source": [
        "ventas_2000.describe()"
      ],
      "metadata": {
        "colab": {
          "base_uri": "https://localhost:8080/"
        },
        "id": "MSkQpMKioc7_",
        "outputId": "1360dbdd-c832-4597-cf6b-e6275a359865"
      },
      "execution_count": 97,
      "outputs": [
        {
          "output_type": "execute_result",
          "data": {
            "text/plain": [
              "count    350.000000\n",
              "mean       0.575943\n",
              "std        0.882631\n",
              "min        0.010000\n",
              "25%        0.110000\n",
              "50%        0.250000\n",
              "75%        0.597500\n",
              "max        6.390000\n",
              "Name: global_sales, dtype: float64"
            ]
          },
          "metadata": {},
          "execution_count": 97
        }
      ]
    },
    {
      "cell_type": "markdown",
      "source": [
        "Para la comprobacion de hipotesis se realiza la prueba Z de dos muestras donde\n",
        "\n",
        "$Z = (x1-x2) /\\sqrt{sigma_1^2/n1 +sigma_2^2/n2}$\n",
        "\n",
        "A continuacion se calcula cada una de las variables "
      ],
      "metadata": {
        "id": "mLHht5wMatz6"
      }
    },
    {
      "cell_type": "code",
      "source": [
        "x1 = ventas_2010.sum()\n",
        "x1"
      ],
      "metadata": {
        "colab": {
          "base_uri": "https://localhost:8080/"
        },
        "id": "ZypvTb4HqJgP",
        "outputId": "fbe4a5c9-9f9e-41eb-f995-e132d6376354"
      },
      "execution_count": 98,
      "outputs": [
        {
          "output_type": "execute_result",
          "data": {
            "text/plain": [
              "590.4300000000001"
            ]
          },
          "metadata": {},
          "execution_count": 98
        }
      ]
    },
    {
      "cell_type": "code",
      "source": [
        "x2 = ventas_2000.sum()\n",
        "x2"
      ],
      "metadata": {
        "colab": {
          "base_uri": "https://localhost:8080/"
        },
        "id": "Ufy40RzXrAHC",
        "outputId": "745414c9-3f08-4b70-a229-0b9a87ce8268"
      },
      "execution_count": 99,
      "outputs": [
        {
          "output_type": "execute_result",
          "data": {
            "text/plain": [
              "201.58"
            ]
          },
          "metadata": {},
          "execution_count": 99
        }
      ]
    },
    {
      "cell_type": "code",
      "source": [
        "n1=len(games_sales_data.loc[games_sales_data.year_of_release == 2010 ])\n",
        "n1"
      ],
      "metadata": {
        "colab": {
          "base_uri": "https://localhost:8080/"
        },
        "id": "dKqZBhAmrFMT",
        "outputId": "94463c6d-357d-4a1b-c2e7-129bee4b5069"
      },
      "execution_count": 100,
      "outputs": [
        {
          "output_type": "execute_result",
          "data": {
            "text/plain": [
              "1253"
            ]
          },
          "metadata": {},
          "execution_count": 100
        }
      ]
    },
    {
      "cell_type": "code",
      "source": [
        "n2=len(games_sales_data.loc[games_sales_data.year_of_release == 2000 ])\n",
        "n2"
      ],
      "metadata": {
        "colab": {
          "base_uri": "https://localhost:8080/"
        },
        "id": "qEE2J4RorJ4T",
        "outputId": "c14733e5-d73e-4abb-fe0e-96fb7a0f1eb2"
      },
      "execution_count": 101,
      "outputs": [
        {
          "output_type": "execute_result",
          "data": {
            "text/plain": [
              "350"
            ]
          },
          "metadata": {},
          "execution_count": 101
        }
      ]
    },
    {
      "cell_type": "code",
      "source": [
        "sigma_1 =pow(1.288432,2)\n",
        "sigma_1"
      ],
      "metadata": {
        "colab": {
          "base_uri": "https://localhost:8080/"
        },
        "id": "dN5aPGsLr6UE",
        "outputId": "759a3ad8-6a36-4f33-f3ca-9427fdbf8f38"
      },
      "execution_count": 102,
      "outputs": [
        {
          "output_type": "execute_result",
          "data": {
            "text/plain": [
              "1.660057018624"
            ]
          },
          "metadata": {},
          "execution_count": 102
        }
      ]
    },
    {
      "cell_type": "code",
      "source": [
        "sigma_2= pow(0.882631,2)\n",
        "sigma_2"
      ],
      "metadata": {
        "colab": {
          "base_uri": "https://localhost:8080/"
        },
        "id": "RgLzYQzJr_07",
        "outputId": "f8032005-36fa-488c-c1bd-4a030b70c218"
      },
      "execution_count": 103,
      "outputs": [
        {
          "output_type": "execute_result",
          "data": {
            "text/plain": [
              "0.7790374821610001"
            ]
          },
          "metadata": {},
          "execution_count": 103
        }
      ]
    },
    {
      "cell_type": "code",
      "source": [
        "# calculo valor Z\n",
        "import numpy as np\n",
        "\n",
        "z=(x1-x2)/np.sqrt(sigma_1/n1+sigma_2/n2)\n",
        "print(round(z,4))"
      ],
      "metadata": {
        "colab": {
          "base_uri": "https://localhost:8080/"
        },
        "id": "eZ722MzyslLm",
        "outputId": "30053d94-481f-49f5-e104-8ca367be7384"
      },
      "execution_count": 104,
      "outputs": [
        {
          "output_type": "stream",
          "name": "stdout",
          "text": [
            "6525.6817\n"
          ]
        }
      ]
    },
    {
      "cell_type": "code",
      "source": [
        "#Calculo el P valor\n",
        "import scipy.stats as stats\n",
        "\n",
        "p=1-stats.norm.cdf(z)\n",
        "p"
      ],
      "metadata": {
        "colab": {
          "base_uri": "https://localhost:8080/"
        },
        "id": "FKuqubFUtDr8",
        "outputId": "0f81b549-ffa1-40ae-d0ac-b47052e8097b"
      },
      "execution_count": 105,
      "outputs": [
        {
          "output_type": "execute_result",
          "data": {
            "text/plain": [
              "0.0"
            ]
          },
          "metadata": {},
          "execution_count": 105
        }
      ]
    },
    {
      "cell_type": "code",
      "source": [
        "from decimal import Decimal\n",
        "Decimal(p)"
      ],
      "metadata": {
        "colab": {
          "base_uri": "https://localhost:8080/"
        },
        "id": "I0BdyM9KuVIv",
        "outputId": "e45df5c8-48f7-42ac-de1c-6c7f348f8f6d"
      },
      "execution_count": 106,
      "outputs": [
        {
          "output_type": "execute_result",
          "data": {
            "text/plain": [
              "Decimal('0')"
            ]
          },
          "metadata": {},
          "execution_count": 106
        }
      ]
    },
    {
      "cell_type": "code",
      "source": [
        "sig =0.05\n",
        "print(p<sig)"
      ],
      "metadata": {
        "colab": {
          "base_uri": "https://localhost:8080/"
        },
        "id": "3oYuX8pPuZT-",
        "outputId": "7db650ea-846d-444d-ea07-5f1d6def612f"
      },
      "execution_count": 107,
      "outputs": [
        {
          "output_type": "stream",
          "name": "stdout",
          "text": [
            "True\n"
          ]
        }
      ]
    },
    {
      "cell_type": "code",
      "source": [
        "def test_h0():\n",
        "  if p<sig:\n",
        "    result='Se rechaza H0'\n",
        "  else:\n",
        "    result='Se acepta H1'\n",
        "  return result\n",
        "\n",
        "test_h0()"
      ],
      "metadata": {
        "colab": {
          "base_uri": "https://localhost:8080/",
          "height": 35
        },
        "id": "c6mo-5Y6vFrS",
        "outputId": "0a34d39d-5d1e-47a3-d01d-e788b506f98b"
      },
      "execution_count": 108,
      "outputs": [
        {
          "output_type": "execute_result",
          "data": {
            "text/plain": [
              "'Se rechaza H0'"
            ],
            "application/vnd.google.colaboratory.intrinsic+json": {
              "type": "string"
            }
          },
          "metadata": {},
          "execution_count": 108
        }
      ]
    },
    {
      "cell_type": "markdown",
      "source": [
        "De acuerdo con estos resultados, se puede inferir que las ventas globales en 2010 superan a las de 2000"
      ],
      "metadata": {
        "id": "HbqFXzDjcKRD"
      }
    },
    {
      "cell_type": "markdown",
      "source": [
        "# 7.Conclusiones"
      ],
      "metadata": {
        "id": "zLqfh7-0MLHo"
      }
    },
    {
      "cell_type": "markdown",
      "source": [
        "\n",
        "El juego con mayor cantidad de ventas a nivel mundial en el periodo analizado es el Wii Sports publicado en 2008 por Nintendo y alcanzo en dicho año 82.54 millones de copias vendidas. \n",
        "\n",
        "En ese mismo año se alcanza el maximo de unidades vendidas a nivel mundial y para las regiones de Norteamerica y Europa que concentran la mayor cantidad de ventas.\n",
        "\n",
        "El comportamiento observado para las ventas de Japon indica que existe estacionalidad cuando se observa la evolucion de ventas por año en el periodo 1980 - 2020 con un maximo de ventas alcanzado en el año 2006 a diferencia del resto de las regiones donde se ve un aumento pronunciado en ventas entre los años 2000 y 2008 (maximo) que luego decae. \n",
        "\n",
        "Del análisis de ventas por plataforma puede concluirse que las plataformas con mas juegos publicados en el periodo analizado son Sony PlayStation 2, PlayStation 3 y Nintendo DS. Si bien las 2 primeras, se encuentran en el top 3 de plataformas con mayor cantidad de ventas en dicho periodo a nivel mundial, para Nintendo DS, se observo una cantidad de ventas significativamente menor en comparación con el resto quedando en 5to lugar a nivel de ventas mundiales.\n",
        "\n",
        "Los generos mas populares a nivel mundial (con mayor cantiad de unidades vendidas) son los de Accion, Deportes y de modalidad Shooter. Este comportamiento se replica para las regiones de Norteamerica y Europa que concentran la mayor cantidad de ventas , mientras que para Japon la tendencia es muy distinta y el genero mas popular es el de Juegos de Rol seguido por Accion y Deportes.\n",
        " \n",
        "Mediante contrastacion de hipótesis se pudo comprobar que  las ventas mundiales en 2010 superan a las del año 2000"
      ],
      "metadata": {
        "id": "5h3dPc0bX29W"
      }
    }
  ]
}